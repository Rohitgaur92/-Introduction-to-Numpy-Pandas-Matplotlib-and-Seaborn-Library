{
 "cells": [
  {
   "cell_type": "markdown",
   "metadata": {},
   "source": [
    "<p style=\"font-family: Arial; font-size:3.75em;color:purple; font-style:bold\"><br>\n",
    "Pandas</p><br>\n",
    "\n",
    "*pandas* is a Python library for data analysis. It offers a number of data exploration, cleaning and transformation operations that are critical in working with data in Python. \n",
    "\n",
    "*pandas* build upon *numpy* and *scipy* providing easy-to-use data structures and data manipulation functions with integrated indexing.\n",
    "\n",
    "The main data structures *pandas* provides are *Series* and *DataFrames*. After a brief introduction to these two data structures and data ingestion, the key features of *pandas* this notebook covers are:\n",
    "* Generating descriptive statistics on data\n",
    "* Data cleaning using built in pandas functions\n",
    "* Frequent data operations for subsetting, filtering, insertion, deletion and aggregation of data\n",
    "* Merging multiple datasets using dataframes\n",
    "* Working with dates\n",
    "\n",
    "**Additional Recommended Resources:**\n",
    "* *pandas* Documentation: http://pandas.pydata.org/pandas-docs/stable/\n",
    "* *Python for Data Analysis* by Wes McKinney\n",
    "* *Python Data Science Handbook* by Jake VanderPlas\n",
    "\n",
    "Let's get started with our first *pandas* notebook!"
   ]
  },
  {
   "cell_type": "code",
   "execution_count": 4,
   "metadata": {},
   "outputs": [
    {
     "name": "stdout",
     "output_type": "stream",
     "text": [
      "Fetching package metadata .............\n",
      "Solving package specifications: .\n",
      "\n",
      "Package plan for installation in environment C:\\Users\\rohit-ga\\AppData\\Local\\Continuum\\Anaconda2\\envs\\DataScience:\n",
      "\n",
      "The following NEW packages will be INSTALLED:\n",
      "\n",
      "    blas:         1.0-mkl              \n",
      "    icc_rt:       2019.0.0-h0cc432a_1  \n",
      "    intel-openmp: 2019.4-245           \n",
      "    mkl:          2019.4-245           \n",
      "    mkl-service:  2.3.0-py36hb782905_0 \n",
      "    mkl_fft:      1.0.14-py36h14836fe_0\n",
      "    mkl_random:   1.1.0-py36h675688f_0 \n",
      "    numpy:        1.16.5-py36h19fb1c0_0\n",
      "    numpy-base:   1.16.5-py36hc3f5095_0\n",
      "    pandas:       0.25.1-py36ha925a31_0\n",
      "    pytz:         2019.3-py_0          \n",
      "\n",
      "pytz-2019.3-py   0% |                              | ETA:  --:--:--   0.00  B/s\n",
      "pytz-2019.3-py   6% |##                             | ETA:  0:00:01 163.84 kB/s\n",
      "pytz-2019.3-py  13% |####                           | ETA:  0:00:01 190.51 kB/s\n",
      "pytz-2019.3-py  20% |######                         | ETA:  0:00:00 215.58 kB/s\n",
      "pytz-2019.3-py  27% |########                       | ETA:  0:00:00 236.59 kB/s\n",
      "pytz-2019.3-py  34% |##########                     | ETA:  0:00:00 246.75 kB/s\n",
      "pytz-2019.3-py  41% |############                   | ETA:  0:00:00 257.34 kB/s\n",
      "pytz-2019.3-py  48% |###############                | ETA:  0:00:00 259.48 kB/s\n",
      "pytz-2019.3-py  55% |#################              | ETA:  0:00:00 270.81 kB/s\n",
      "pytz-2019.3-py  62% |###################            | ETA:  0:00:00 288.00 kB/s\n",
      "pytz-2019.3-py  69% |#####################          | ETA:  0:00:00 300.07 kB/s\n",
      "pytz-2019.3-py  76% |#######################        | ETA:  0:00:00 313.98 kB/s\n",
      "pytz-2019.3-py  83% |#########################      | ETA:  0:00:00 328.78 kB/s\n",
      "pytz-2019.3-py  90% |###########################    | ETA:  0:00:00 340.79 kB/s\n",
      "pytz-2019.3-py  96% |############################## | ETA:  0:00:00 347.01 kB/s\n",
      "pytz-2019.3-py 100% |###############################| ETA:  0:00:00 357.33 kB/s\n",
      "pytz-2019.3-py 100% |###############################| Time: 0:00:00 356.26 kB/s\n",
      "\n",
      "mkl-service-2.   0% |                              | ETA:  --:--:--   0.00  B/s\n",
      "mkl-service-2.   7% |##                             | Time: 0:00:00 630.15 kB/s\n",
      "mkl-service-2.  15% |####                           | Time: 0:00:00 668.73 kB/s\n",
      "mkl-service-2.  23% |#######                        | Time: 0:00:00 756.18 kB/s\n",
      "mkl-service-2.  31% |#########                      | Time: 0:00:00 736.36 kB/s\n",
      "mkl-service-2.  39% |############                   | Time: 0:00:00 765.61 kB/s\n",
      "mkl-service-2.  47% |##############                 | Time: 0:00:00 786.43 kB/s\n",
      "mkl-service-2.  55% |#################              | Time: 0:00:00 825.09 kB/s\n",
      "mkl-service-2.  63% |###################            | Time: 0:00:00 845.63 kB/s\n",
      "mkl-service-2.  71% |######################         | Time: 0:00:00 867.39 kB/s\n",
      "mkl-service-2.  79% |########################       | Time: 0:00:00 880.86 kB/s\n",
      "mkl-service-2.  87% |###########################    | Time: 0:00:00 914.84 kB/s\n",
      "mkl-service-2.  95% |#############################  | Time: 0:00:00 910.22 kB/s\n",
      "mkl-service-2. 100% |###############################| Time: 0:00:00 944.03 kB/s\n",
      "mkl-service-2. 100% |###############################| Time: 0:00:00 939.70 kB/s\n",
      "\n",
      "numpy-base-1.1   0% |                              | ETA:  --:--:--   0.00  B/s\n",
      "numpy-base-1.1   0% |                               | Time: 0:00:00   2.34 MB/s\n",
      "numpy-base-1.1   0% |                               | Time: 0:00:00   1.02 MB/s\n",
      "numpy-base-1.1   1% |                               | Time: 0:00:00   1.23 MB/s\n",
      "numpy-base-1.1   1% |                               | Time: 0:00:00   1.11 MB/s\n",
      "numpy-base-1.1   1% |                               | Time: 0:00:00   1.14 MB/s\n",
      "numpy-base-1.1   2% |                               | Time: 0:00:00   1.13 MB/s\n",
      "numpy-base-1.1   2% |                               | Time: 0:00:00   1.15 MB/s\n",
      "numpy-base-1.1   3% |                               | Time: 0:00:00   1.20 MB/s\n",
      "numpy-base-1.1   3% |#                              | Time: 0:00:00   1.23 MB/s\n",
      "numpy-base-1.1   3% |#                              | Time: 0:00:00   1.23 MB/s\n",
      "numpy-base-1.1   4% |#                              | Time: 0:00:00   1.27 MB/s\n",
      "numpy-base-1.1   4% |#                              | Time: 0:00:00   1.27 MB/s\n",
      "numpy-base-1.1   4% |#                              | Time: 0:00:00   1.30 MB/s\n",
      "numpy-base-1.1   5% |#                              | Time: 0:00:00   1.32 MB/s\n",
      "numpy-base-1.1   5% |#                              | Time: 0:00:00   1.34 MB/s\n",
      "numpy-base-1.1   6% |#                              | Time: 0:00:00   1.31 MB/s\n",
      "numpy-base-1.1   6% |#                              | Time: 0:00:00   1.31 MB/s\n",
      "numpy-base-1.1   6% |##                             | Time: 0:00:00   1.35 MB/s\n",
      "numpy-base-1.1   7% |##                             | Time: 0:00:00   1.38 MB/s\n",
      "numpy-base-1.1   7% |##                             | Time: 0:00:00   1.38 MB/s\n",
      "numpy-base-1.1   7% |##                             | Time: 0:00:00   1.40 MB/s\n",
      "numpy-base-1.1   8% |##                             | Time: 0:00:00   1.41 MB/s\n",
      "numpy-base-1.1   8% |##                             | Time: 0:00:00   1.43 MB/s\n",
      "numpy-base-1.1   9% |##                             | Time: 0:00:00   1.42 MB/s\n",
      "numpy-base-1.1   9% |##                             | Time: 0:00:00   1.39 MB/s\n",
      "numpy-base-1.1   9% |###                            | Time: 0:00:00   1.37 MB/s\n",
      "numpy-base-1.1  10% |###                            | Time: 0:00:00   1.39 MB/s\n",
      "numpy-base-1.1  10% |###                            | Time: 0:00:00   1.41 MB/s\n",
      "numpy-base-1.1  10% |###                            | Time: 0:00:00   1.44 MB/s\n",
      "numpy-base-1.1  11% |###                            | Time: 0:00:00   1.45 MB/s\n",
      "numpy-base-1.1  11% |###                            | Time: 0:00:00   1.43 MB/s\n",
      "numpy-base-1.1  12% |###                            | Time: 0:00:00   1.44 MB/s\n",
      "numpy-base-1.1  12% |###                            | Time: 0:00:00   1.46 MB/s\n",
      "numpy-base-1.1  12% |###                            | Time: 0:00:00   1.48 MB/s\n",
      "numpy-base-1.1  13% |####                           | Time: 0:00:00   1.49 MB/s\n",
      "numpy-base-1.1  13% |####                           | Time: 0:00:00   1.50 MB/s\n",
      "numpy-base-1.1  13% |####                           | Time: 0:00:00   1.50 MB/s\n",
      "numpy-base-1.1  14% |####                           | Time: 0:00:00   1.51 MB/s\n",
      "numpy-base-1.1  14% |####                           | Time: 0:00:00   1.51 MB/s\n",
      "numpy-base-1.1  15% |####                           | Time: 0:00:00   1.49 MB/s\n",
      "numpy-base-1.1  15% |####                           | Time: 0:00:00   1.49 MB/s\n",
      "numpy-base-1.1  15% |####                           | Time: 0:00:00   1.47 MB/s\n",
      "numpy-base-1.1  16% |#####                          | Time: 0:00:00   1.48 MB/s\n",
      "numpy-base-1.1  16% |#####                          | Time: 0:00:00   1.47 MB/s\n",
      "numpy-base-1.1  16% |#####                          | Time: 0:00:00   1.46 MB/s\n",
      "numpy-base-1.1  17% |#####                          | Time: 0:00:00   1.45 MB/s\n",
      "numpy-base-1.1  17% |#####                          | Time: 0:00:00   1.46 MB/s\n",
      "numpy-base-1.1  18% |#####                          | Time: 0:00:00   1.45 MB/s\n",
      "numpy-base-1.1  18% |#####                          | Time: 0:00:00   1.45 MB/s\n",
      "numpy-base-1.1  18% |#####                          | Time: 0:00:00   1.43 MB/s\n",
      "numpy-base-1.1  19% |#####                          | Time: 0:00:00   1.43 MB/s\n",
      "numpy-base-1.1  19% |######                         | Time: 0:00:00   1.44 MB/s\n",
      "numpy-base-1.1  20% |######                         | Time: 0:00:00   1.44 MB/s\n",
      "numpy-base-1.1  20% |######                         | Time: 0:00:00   1.45 MB/s\n",
      "numpy-base-1.1  20% |######                         | Time: 0:00:00   1.46 MB/s\n",
      "numpy-base-1.1  21% |######                         | Time: 0:00:00   1.47 MB/s\n",
      "numpy-base-1.1  21% |######                         | Time: 0:00:00   1.47 MB/s\n",
      "numpy-base-1.1  21% |######                         | Time: 0:00:00   1.48 MB/s\n",
      "numpy-base-1.1  22% |######                         | Time: 0:00:00   1.49 MB/s\n",
      "numpy-base-1.1  22% |#######                        | Time: 0:00:00   1.49 MB/s\n",
      "numpy-base-1.1  23% |#######                        | Time: 0:00:00   1.50 MB/s\n",
      "numpy-base-1.1  23% |#######                        | Time: 0:00:00   1.51 MB/s\n",
      "numpy-base-1.1  23% |#######                        | Time: 0:00:00   1.53 MB/s\n",
      "numpy-base-1.1  24% |#######                        | Time: 0:00:00   1.53 MB/s\n",
      "numpy-base-1.1  24% |#######                        | Time: 0:00:00   1.55 MB/s\n",
      "numpy-base-1.1  24% |#######                        | Time: 0:00:00   1.54 MB/s\n",
      "numpy-base-1.1  25% |#######                        | Time: 0:00:00   1.53 MB/s\n",
      "numpy-base-1.1  25% |#######                        | Time: 0:00:00   1.54 MB/s\n",
      "numpy-base-1.1  26% |########                       | Time: 0:00:00   1.55 MB/s\n",
      "numpy-base-1.1  26% |########                       | Time: 0:00:00   1.56 MB/s\n",
      "numpy-base-1.1  26% |########                       | Time: 0:00:00   1.57 MB/s\n",
      "numpy-base-1.1  27% |########                       | Time: 0:00:00   1.58 MB/s\n",
      "numpy-base-1.1  27% |########                       | Time: 0:00:00   1.59 MB/s\n",
      "numpy-base-1.1  27% |########                       | Time: 0:00:00   1.60 MB/s\n",
      "numpy-base-1.1  28% |########                       | Time: 0:00:00   1.61 MB/s\n",
      "numpy-base-1.1  28% |########                       | Time: 0:00:00   1.60 MB/s\n",
      "numpy-base-1.1  29% |#########                      | Time: 0:00:00   1.62 MB/s\n",
      "numpy-base-1.1  29% |#########                      | Time: 0:00:00   1.63 MB/s\n",
      "numpy-base-1.1  29% |#########                      | Time: 0:00:00   1.64 MB/s\n",
      "numpy-base-1.1  30% |#########                      | Time: 0:00:00   1.64 MB/s\n",
      "numpy-base-1.1  30% |#########                      | Time: 0:00:00   1.66 MB/s\n",
      "numpy-base-1.1  30% |#########                      | Time: 0:00:00   1.66 MB/s\n",
      "numpy-base-1.1  31% |#########                      | Time: 0:00:00   1.66 MB/s\n",
      "numpy-base-1.1  31% |#########                      | Time: 0:00:00   1.68 MB/s\n",
      "numpy-base-1.1  32% |#########                      | Time: 0:00:00   1.68 MB/s\n",
      "numpy-base-1.1  32% |##########                     | Time: 0:00:00   1.69 MB/s\n",
      "numpy-base-1.1  32% |##########                     | Time: 0:00:00   1.70 MB/s\n",
      "numpy-base-1.1  33% |##########                     | Time: 0:00:00   1.70 MB/s\n",
      "numpy-base-1.1  33% |##########                     | Time: 0:00:00   1.71 MB/s\n",
      "numpy-base-1.1  33% |##########                     | Time: 0:00:00   1.72 MB/s\n",
      "numpy-base-1.1  34% |##########                     | Time: 0:00:00   1.72 MB/s\n",
      "numpy-base-1.1  34% |##########                     | Time: 0:00:00   1.73 MB/s\n",
      "numpy-base-1.1  35% |##########                     | Time: 0:00:00   1.73 MB/s\n",
      "numpy-base-1.1  35% |###########                    | Time: 0:00:00   1.74 MB/s\n",
      "numpy-base-1.1  35% |###########                    | Time: 0:00:00   1.75 MB/s\n",
      "numpy-base-1.1  36% |###########                    | Time: 0:00:00   1.76 MB/s\n",
      "numpy-base-1.1  36% |###########                    | Time: 0:00:00   1.77 MB/s\n",
      "numpy-base-1.1  37% |###########                    | Time: 0:00:00   1.77 MB/s\n",
      "numpy-base-1.1  37% |###########                    | Time: 0:00:00   1.77 MB/s\n",
      "numpy-base-1.1  37% |###########                    | Time: 0:00:00   1.78 MB/s\n",
      "numpy-base-1.1  38% |###########                    | Time: 0:00:00   1.79 MB/s\n",
      "numpy-base-1.1  38% |###########                    | Time: 0:00:00   1.79 MB/s\n",
      "numpy-base-1.1  38% |############                   | Time: 0:00:00   1.79 MB/s\n",
      "numpy-base-1.1  39% |############                   | Time: 0:00:00   1.79 MB/s\n",
      "numpy-base-1.1  39% |############                   | Time: 0:00:00   1.80 MB/s\n",
      "numpy-base-1.1  40% |############                   | Time: 0:00:00   1.81 MB/s\n",
      "numpy-base-1.1  40% |############                   | Time: 0:00:00   1.82 MB/s\n",
      "numpy-base-1.1  40% |############                   | Time: 0:00:00   1.82 MB/s\n",
      "numpy-base-1.1  41% |############                   | Time: 0:00:00   1.82 MB/s\n",
      "numpy-base-1.1  41% |############                   | Time: 0:00:00   1.83 MB/s\n",
      "numpy-base-1.1  41% |############                   | Time: 0:00:00   1.84 MB/s\n",
      "numpy-base-1.1  42% |#############                  | Time: 0:00:00   1.84 MB/s\n",
      "numpy-base-1.1  42% |#############                  | Time: 0:00:01   1.85 MB/s\n",
      "numpy-base-1.1  43% |#############                  | Time: 0:00:01   1.85 MB/s\n",
      "numpy-base-1.1  43% |#############                  | Time: 0:00:01   1.86 MB/s\n",
      "numpy-base-1.1  43% |#############                  | Time: 0:00:01   1.87 MB/s\n",
      "numpy-base-1.1  44% |#############                  | Time: 0:00:01   1.88 MB/s\n",
      "numpy-base-1.1  44% |#############                  | Time: 0:00:01   1.89 MB/s\n",
      "numpy-base-1.1  44% |#############                  | Time: 0:00:01   1.90 MB/s\n",
      "numpy-base-1.1  45% |##############                 | Time: 0:00:01   1.91 MB/s\n",
      "numpy-base-1.1  45% |##############                 | Time: 0:00:01   1.87 MB/s\n",
      "numpy-base-1.1  46% |##############                 | Time: 0:00:01   1.88 MB/s\n",
      "numpy-base-1.1  46% |##############                 | Time: 0:00:01   1.88 MB/s\n",
      "numpy-base-1.1  46% |##############                 | Time: 0:00:01   1.89 MB/s\n",
      "numpy-base-1.1  47% |##############                 | Time: 0:00:01   1.89 MB/s\n",
      "numpy-base-1.1  47% |##############                 | Time: 0:00:01   1.90 MB/s\n",
      "numpy-base-1.1  47% |##############                 | Time: 0:00:01   1.90 MB/s\n",
      "numpy-base-1.1  48% |##############                 | Time: 0:00:01   1.91 MB/s\n",
      "numpy-base-1.1  48% |###############                | Time: 0:00:01   1.92 MB/s\n",
      "numpy-base-1.1  49% |###############                | Time: 0:00:01   1.93 MB/s\n",
      "numpy-base-1.1  49% |###############                | Time: 0:00:01   1.94 MB/s\n",
      "numpy-base-1.1  49% |###############                | Time: 0:00:01   1.95 MB/s\n",
      "numpy-base-1.1  50% |###############                | Time: 0:00:01   1.95 MB/s\n",
      "numpy-base-1.1  50% |###############                | Time: 0:00:01   1.95 MB/s\n",
      "numpy-base-1.1  50% |###############                | Time: 0:00:01   1.96 MB/s\n",
      "numpy-base-1.1  51% |###############                | Time: 0:00:01   1.96 MB/s\n",
      "numpy-base-1.1  51% |################               | Time: 0:00:01   1.96 MB/s\n",
      "numpy-base-1.1  52% |################               | Time: 0:00:01   1.96 MB/s\n",
      "numpy-base-1.1  52% |################               | Time: 0:00:01   1.97 MB/s\n",
      "numpy-base-1.1  52% |################               | Time: 0:00:01   1.98 MB/s\n",
      "numpy-base-1.1  53% |################               | Time: 0:00:01   1.98 MB/s\n",
      "numpy-base-1.1  53% |################               | Time: 0:00:01   1.99 MB/s\n",
      "numpy-base-1.1  53% |################               | Time: 0:00:01   2.00 MB/s\n",
      "numpy-base-1.1  54% |################               | Time: 0:00:01   2.00 MB/s\n",
      "numpy-base-1.1  54% |################               | Time: 0:00:01   1.99 MB/s\n",
      "numpy-base-1.1  55% |#################              | Time: 0:00:01   2.00 MB/s\n",
      "numpy-base-1.1  55% |#################              | Time: 0:00:01   2.01 MB/s\n",
      "numpy-base-1.1  55% |#################              | Time: 0:00:01   2.01 MB/s\n",
      "numpy-base-1.1  56% |#################              | Time: 0:00:01   2.02 MB/s\n",
      "numpy-base-1.1  56% |#################              | Time: 0:00:01   2.03 MB/s\n",
      "numpy-base-1.1  57% |#################              | Time: 0:00:01   2.03 MB/s\n",
      "numpy-base-1.1  57% |#################              | Time: 0:00:01   2.03 MB/s\n",
      "numpy-base-1.1  57% |#################              | Time: 0:00:01   2.03 MB/s\n",
      "numpy-base-1.1  58% |##################             | Time: 0:00:01   2.04 MB/s\n",
      "numpy-base-1.1  58% |##################             | Time: 0:00:01   2.04 MB/s\n",
      "numpy-base-1.1  58% |##################             | Time: 0:00:01   2.04 MB/s\n",
      "numpy-base-1.1  59% |##################             | Time: 0:00:01   2.05 MB/s\n",
      "numpy-base-1.1  59% |##################             | Time: 0:00:01   2.06 MB/s\n",
      "numpy-base-1.1  60% |##################             | Time: 0:00:01   2.06 MB/s\n",
      "numpy-base-1.1  60% |##################             | Time: 0:00:01   2.07 MB/s\n",
      "numpy-base-1.1  60% |##################             | Time: 0:00:01   2.06 MB/s\n",
      "numpy-base-1.1  61% |##################             | Time: 0:00:01   2.08 MB/s\n",
      "numpy-base-1.1  61% |###################            | Time: 0:00:01   2.08 MB/s\n",
      "numpy-base-1.1  61% |###################            | Time: 0:00:01   2.08 MB/s\n",
      "numpy-base-1.1  62% |###################            | Time: 0:00:01   2.09 MB/s\n",
      "numpy-base-1.1  62% |###################            | Time: 0:00:01   2.09 MB/s\n",
      "numpy-base-1.1  63% |###################            | Time: 0:00:01   2.10 MB/s\n",
      "numpy-base-1.1  63% |###################            | Time: 0:00:01   2.10 MB/s\n",
      "numpy-base-1.1  63% |###################            | Time: 0:00:01   2.11 MB/s\n",
      "numpy-base-1.1  64% |###################            | Time: 0:00:01   2.12 MB/s\n",
      "numpy-base-1.1  64% |####################           | Time: 0:00:01   2.12 MB/s\n",
      "numpy-base-1.1  64% |####################           | Time: 0:00:01   2.12 MB/s\n",
      "numpy-base-1.1  65% |####################           | Time: 0:00:01   2.12 MB/s\n",
      "numpy-base-1.1  65% |####################           | Time: 0:00:01   2.13 MB/s\n",
      "numpy-base-1.1  66% |####################           | Time: 0:00:01   2.13 MB/s\n",
      "numpy-base-1.1  66% |####################           | Time: 0:00:01   2.12 MB/s\n",
      "numpy-base-1.1  66% |####################           | Time: 0:00:01   2.13 MB/s\n",
      "numpy-base-1.1  67% |####################           | Time: 0:00:01   2.12 MB/s\n",
      "numpy-base-1.1  67% |####################           | Time: 0:00:01   2.13 MB/s\n",
      "numpy-base-1.1  67% |#####################          | Time: 0:00:01   2.14 MB/s\n",
      "numpy-base-1.1  68% |#####################          | Time: 0:00:01   2.14 MB/s\n",
      "numpy-base-1.1  68% |#####################          | Time: 0:00:01   2.15 MB/s\n",
      "numpy-base-1.1  69% |#####################          | Time: 0:00:01   2.16 MB/s\n",
      "numpy-base-1.1  69% |#####################          | Time: 0:00:01   2.15 MB/s\n",
      "numpy-base-1.1  69% |#####################          | Time: 0:00:01   2.16 MB/s\n",
      "numpy-base-1.1  70% |#####################          | Time: 0:00:01   2.17 MB/s\n",
      "numpy-base-1.1  70% |#####################          | Time: 0:00:01   2.18 MB/s\n",
      "numpy-base-1.1  70% |######################         | Time: 0:00:01   2.18 MB/s\n",
      "numpy-base-1.1  71% |######################         | Time: 0:00:01   2.18 MB/s\n",
      "numpy-base-1.1  71% |######################         | Time: 0:00:01   2.19 MB/s\n",
      "numpy-base-1.1  72% |######################         | Time: 0:00:01   2.19 MB/s\n",
      "numpy-base-1.1  72% |######################         | Time: 0:00:01   2.19 MB/s\n",
      "numpy-base-1.1  72% |######################         | Time: 0:00:01   2.20 MB/s\n",
      "numpy-base-1.1  73% |######################         | Time: 0:00:01   2.20 MB/s\n",
      "numpy-base-1.1  73% |######################         | Time: 0:00:01   2.20 MB/s\n",
      "numpy-base-1.1  74% |######################         | Time: 0:00:01   2.21 MB/s\n",
      "numpy-base-1.1  74% |#######################        | Time: 0:00:01   2.22 MB/s\n",
      "numpy-base-1.1  74% |#######################        | Time: 0:00:01   2.22 MB/s\n",
      "numpy-base-1.1  75% |#######################        | Time: 0:00:01   2.23 MB/s\n",
      "numpy-base-1.1  75% |#######################        | Time: 0:00:01   2.23 MB/s\n",
      "numpy-base-1.1  75% |#######################        | Time: 0:00:01   2.24 MB/s\n",
      "numpy-base-1.1  76% |#######################        | Time: 0:00:01   2.23 MB/s\n",
      "numpy-base-1.1  76% |#######################        | Time: 0:00:01   2.25 MB/s\n",
      "numpy-base-1.1  77% |#######################        | Time: 0:00:01   2.25 MB/s\n",
      "numpy-base-1.1  77% |#######################        | Time: 0:00:01   2.25 MB/s\n",
      "numpy-base-1.1  77% |########################       | Time: 0:00:01   2.25 MB/s\n",
      "numpy-base-1.1  78% |########################       | Time: 0:00:01   2.26 MB/s\n",
      "numpy-base-1.1  78% |########################       | Time: 0:00:01   2.26 MB/s\n",
      "numpy-base-1.1  78% |########################       | Time: 0:00:01   2.27 MB/s\n",
      "numpy-base-1.1  79% |########################       | Time: 0:00:01   2.27 MB/s\n",
      "numpy-base-1.1  79% |########################       | Time: 0:00:01   2.27 MB/s\n",
      "numpy-base-1.1  80% |########################       | Time: 0:00:01   2.26 MB/s\n",
      "numpy-base-1.1  80% |########################       | Time: 0:00:01   2.26 MB/s\n",
      "numpy-base-1.1  80% |#########################      | Time: 0:00:01   2.27 MB/s\n",
      "numpy-base-1.1  81% |#########################      | Time: 0:00:01   2.27 MB/s\n",
      "numpy-base-1.1  81% |#########################      | Time: 0:00:01   2.27 MB/s\n",
      "numpy-base-1.1  81% |#########################      | Time: 0:00:01   2.28 MB/s\n",
      "numpy-base-1.1  82% |#########################      | Time: 0:00:01   2.28 MB/s\n",
      "numpy-base-1.1  82% |#########################      | Time: 0:00:01   2.28 MB/s\n",
      "numpy-base-1.1  83% |#########################      | Time: 0:00:01   2.29 MB/s\n",
      "numpy-base-1.1  83% |#########################      | Time: 0:00:01   2.29 MB/s\n",
      "numpy-base-1.1  83% |#########################      | Time: 0:00:01   2.29 MB/s\n",
      "numpy-base-1.1  84% |##########################     | Time: 0:00:01   2.30 MB/s\n",
      "numpy-base-1.1  84% |##########################     | Time: 0:00:01   2.30 MB/s\n",
      "numpy-base-1.1  84% |##########################     | Time: 0:00:01   2.31 MB/s\n",
      "numpy-base-1.1  85% |##########################     | Time: 0:00:01   2.32 MB/s\n",
      "numpy-base-1.1  85% |##########################     | Time: 0:00:01   2.32 MB/s\n",
      "numpy-base-1.1  86% |##########################     | Time: 0:00:01   2.32 MB/s\n",
      "numpy-base-1.1  86% |##########################     | Time: 0:00:01   2.32 MB/s\n",
      "numpy-base-1.1  86% |##########################     | Time: 0:00:01   2.33 MB/s\n",
      "numpy-base-1.1  87% |###########################    | Time: 0:00:01   2.33 MB/s\n",
      "numpy-base-1.1  87% |###########################    | Time: 0:00:01   2.34 MB/s\n",
      "numpy-base-1.1  87% |###########################    | Time: 0:00:01   2.33 MB/s\n",
      "numpy-base-1.1  88% |###########################    | Time: 0:00:01   2.33 MB/s\n",
      "numpy-base-1.1  88% |###########################    | Time: 0:00:01   2.34 MB/s\n",
      "numpy-base-1.1  89% |###########################    | Time: 0:00:01   2.34 MB/s\n",
      "numpy-base-1.1  89% |###########################    | Time: 0:00:01   2.34 MB/s\n",
      "numpy-base-1.1  89% |###########################    | Time: 0:00:01   2.35 MB/s\n",
      "numpy-base-1.1  90% |###########################    | Time: 0:00:01   2.35 MB/s\n",
      "numpy-base-1.1  90% |############################   | Time: 0:00:01   2.36 MB/s\n",
      "numpy-base-1.1  90% |############################   | Time: 0:00:01   2.36 MB/s\n",
      "numpy-base-1.1  91% |############################   | Time: 0:00:01   2.36 MB/s\n",
      "numpy-base-1.1  91% |############################   | Time: 0:00:01   2.36 MB/s\n",
      "numpy-base-1.1  92% |############################   | Time: 0:00:01   2.37 MB/s\n",
      "numpy-base-1.1  92% |############################   | Time: 0:00:01   2.37 MB/s\n",
      "numpy-base-1.1  92% |############################   | Time: 0:00:01   2.37 MB/s\n",
      "numpy-base-1.1  93% |############################   | Time: 0:00:01   2.36 MB/s\n",
      "numpy-base-1.1  93% |#############################  | Time: 0:00:01   2.37 MB/s\n",
      "numpy-base-1.1  94% |#############################  | Time: 0:00:01   2.37 MB/s\n",
      "numpy-base-1.1  94% |#############################  | Time: 0:00:01   2.38 MB/s\n",
      "numpy-base-1.1  94% |#############################  | Time: 0:00:01   2.37 MB/s\n",
      "numpy-base-1.1  95% |#############################  | Time: 0:00:01   2.37 MB/s\n",
      "numpy-base-1.1  95% |#############################  | Time: 0:00:01   2.38 MB/s\n",
      "numpy-base-1.1  95% |#############################  | Time: 0:00:01   2.37 MB/s\n",
      "numpy-base-1.1  96% |#############################  | Time: 0:00:01   2.38 MB/s\n",
      "numpy-base-1.1  96% |#############################  | Time: 0:00:01   2.38 MB/s\n",
      "numpy-base-1.1  97% |############################## | Time: 0:00:01   2.38 MB/s\n",
      "numpy-base-1.1  97% |############################## | Time: 0:00:01   2.39 MB/s\n",
      "numpy-base-1.1  97% |############################## | Time: 0:00:01   2.39 MB/s\n",
      "numpy-base-1.1  98% |############################## | Time: 0:00:01   2.39 MB/s\n",
      "numpy-base-1.1  98% |############################## | Time: 0:00:01   2.39 MB/s\n",
      "numpy-base-1.1  98% |############################## | Time: 0:00:01   2.39 MB/s\n",
      "numpy-base-1.1  99% |############################## | Time: 0:00:01   2.40 MB/s\n",
      "numpy-base-1.1  99% |############################## | Time: 0:00:01   2.40 MB/s\n",
      "numpy-base-1.1 100% |###############################| Time: 0:00:01   2.39 MB/s\n",
      "numpy-base-1.1 100% |###############################| Time: 0:00:01   2.39 MB/s\n",
      "\n",
      "mkl_fft-1.0.14   0% |                              | ETA:  --:--:--   0.00  B/s\n",
      "mkl_fft-1.0.14  11% |###                            | Time: 0:00:00   3.28 MB/s\n",
      "mkl_fft-1.0.14  23% |#######                        | Time: 0:00:00   3.64 MB/s\n",
      "mkl_fft-1.0.14  35% |##########                     | Time: 0:00:00   4.92 MB/s\n",
      "mkl_fft-1.0.14  46% |##############                 | Time: 0:00:00   4.10 MB/s\n",
      "mkl_fft-1.0.14  58% |##################             | Time: 0:00:00   4.10 MB/s\n",
      "mkl_fft-1.0.14  70% |#####################          | Time: 0:00:00   3.93 MB/s\n",
      "mkl_fft-1.0.14  81% |#########################      | Time: 0:00:00   3.58 MB/s\n",
      "mkl_fft-1.0.14  93% |#############################  | Time: 0:00:00   3.28 MB/s\n",
      "mkl_fft-1.0.14 100% |###############################| Time: 0:00:00   3.42 MB/s\n",
      "mkl_fft-1.0.14 100% |###############################| Time: 0:00:00   3.33 MB/s\n",
      "\n",
      "mkl_random-1.1   0% |                              | ETA:  --:--:--   0.00  B/s\n",
      "mkl_random-1.1   5% |#                              | Time: 0:00:00 512.00 kB/s\n",
      "mkl_random-1.1  11% |###                            | Time: 0:00:00 992.97 kB/s\n",
      "mkl_random-1.1  17% |#####                          | Time: 0:00:00   1.49 MB/s\n",
      "mkl_random-1.1  23% |#######                        | Time: 0:00:00   1.93 MB/s\n",
      "mkl_random-1.1  29% |#########                      | Time: 0:00:00   2.34 MB/s\n",
      "mkl_random-1.1  35% |##########                     | Time: 0:00:00   2.73 MB/s\n",
      "mkl_random-1.1  41% |############                   | Time: 0:00:00   3.19 MB/s\n",
      "mkl_random-1.1  47% |##############                 | Time: 0:00:00   3.54 MB/s\n",
      "mkl_random-1.1  53% |################               | Time: 0:00:00   2.63 MB/s\n",
      "mkl_random-1.1  59% |##################             | Time: 0:00:00   2.69 MB/s\n",
      "mkl_random-1.1  64% |####################           | Time: 0:00:00   2.54 MB/s\n",
      "mkl_random-1.1  70% |#####################          | Time: 0:00:00   2.59 MB/s\n",
      "mkl_random-1.1  76% |#######################        | Time: 0:00:00 328.69 kB/s\n",
      "mkl_random-1.1  82% |#########################      | Time: 0:00:00 307.47 kB/s\n",
      "mkl_random-1.1  88% |###########################    | Time: 0:00:00 298.61 kB/s\n",
      "mkl_random-1.1  94% |#############################  | Time: 0:00:00 292.25 kB/s\n",
      "mkl_random-1.1 100% |###############################| Time: 0:00:00 309.25 kB/s\n",
      "mkl_random-1.1 100% |###############################| Time: 0:00:00 308.56 kB/s\n",
      "\n",
      "numpy-1.16.5-p   0% |                              | ETA:  --:--:--   0.00  B/s\n",
      "numpy-1.16.5-p  32% |#########                      | Time: 0:00:00 204.80 kB/s\n",
      "numpy-1.16.5-p  64% |###################            | Time: 0:00:00 244.54 kB/s\n",
      "numpy-1.16.5-p  96% |#############################  | Time: 0:00:00 323.37 kB/s\n",
      "numpy-1.16.5-p 100% |###############################| Time: 0:00:00 334.20 kB/s\n",
      "numpy-1.16.5-p 100% |###############################| Time: 0:00:00 332.03 kB/s\n",
      "\n",
      "pandas-0.25.1-   0% |                              | ETA:  --:--:--   0.00  B/s\n",
      "pandas-0.25.1-   0% |                               | Time: 0:00:00 268.59 kB/s\n",
      "pandas-0.25.1-   0% |                               | Time: 0:00:00 341.33 kB/s\n",
      "pandas-0.25.1-   0% |                               | Time: 0:00:00 329.88 kB/s\n",
      "pandas-0.25.1-   0% |                               | Time: 0:00:00 339.56 kB/s\n",
      "pandas-0.25.1-   0% |                               | Time: 0:00:00 347.12 kB/s\n",
      "pandas-0.25.1-   0% |                               | Time: 0:00:00 353.61 kB/s\n",
      "pandas-0.25.1-   1% |                               | Time: 0:00:00 358.40 kB/s\n",
      "pandas-0.25.1-   1% |                               | Time: 0:00:00 362.08 kB/s\n",
      "pandas-0.25.1-   1% |                               | Time: 0:00:00 367.72 kB/s\n",
      "pandas-0.25.1-   1% |                               | Time: 0:00:00 366.53 kB/s\n",
      "pandas-0.25.1-   1% |                               | Time: 0:00:00 378.62 kB/s\n",
      "pandas-0.25.1-   1% |                               | Time: 0:00:00 373.78 kB/s\n",
      "pandas-0.25.1-   2% |                               | Time: 0:00:00 383.77 kB/s\n",
      "pandas-0.25.1-   2% |                               | Time: 0:00:00 391.43 kB/s\n",
      "pandas-0.25.1-   2% |                               | Time: 0:00:00 397.67 kB/s\n",
      "pandas-0.25.1-   2% |                               | Time: 0:00:00 404.54 kB/s\n",
      "pandas-0.25.1-   2% |                               | Time: 0:00:00 409.60 kB/s\n",
      "pandas-0.25.1-   2% |                               | Time: 0:00:00 415.37 kB/s\n",
      "pandas-0.25.1-   3% |                               | Time: 0:00:00 413.96 kB/s\n",
      "pandas-0.25.1-   3% |                               | Time: 0:00:00 414.26 kB/s\n",
      "pandas-0.25.1-   3% |#                              | Time: 0:00:00 420.10 kB/s\n",
      "pandas-0.25.1-   3% |#                              | Time: 0:00:00 425.56 kB/s\n",
      "pandas-0.25.1-   3% |#                              | Time: 0:00:00 430.17 kB/s\n",
      "pandas-0.25.1-   3% |#                              | Time: 0:00:00 434.97 kB/s\n",
      "pandas-0.25.1-   3% |#                              | Time: 0:00:00 439.48 kB/s\n",
      "pandas-0.25.1-   4% |#                              | Time: 0:00:00 437.36 kB/s\n",
      "pandas-0.25.1-   4% |#                              | Time: 0:00:01 441.48 kB/s\n",
      "pandas-0.25.1-   4% |#                              | Time: 0:00:01 448.44 kB/s\n",
      "pandas-0.25.1-   4% |#                              | Time: 0:00:01 452.94 kB/s\n",
      "pandas-0.25.1-   4% |#                              | Time: 0:00:01 458.51 kB/s\n",
      "pandas-0.25.1-   4% |#                              | Time: 0:00:01 457.57 kB/s\n",
      "pandas-0.25.1-   5% |#                              | Time: 0:00:01 461.52 kB/s\n",
      "pandas-0.25.1-   5% |#                              | Time: 0:00:01 468.11 kB/s\n",
      "pandas-0.25.1-   5% |#                              | Time: 0:00:01 470.49 kB/s\n",
      "pandas-0.25.1-   5% |#                              | Time: 0:00:01 472.36 kB/s\n",
      "pandas-0.25.1-   5% |#                              | Time: 0:00:01 476.43 kB/s\n",
      "pandas-0.25.1-   5% |#                              | Time: 0:00:01 477.33 kB/s\n",
      "pandas-0.25.1-   6% |#                              | Time: 0:00:01 484.13 kB/s\n",
      "pandas-0.25.1-   6% |#                              | Time: 0:00:01 487.40 kB/s\n",
      "pandas-0.25.1-   6% |#                              | Time: 0:00:01 489.44 kB/s\n",
      "pandas-0.25.1-   6% |##                             | Time: 0:00:01 492.12 kB/s\n",
      "pandas-0.25.1-   6% |##                             | Time: 0:00:01 493.99 kB/s\n",
      "pandas-0.25.1-   6% |##                             | Time: 0:00:01 496.83 kB/s\n",
      "pandas-0.25.1-   6% |##                             | Time: 0:00:01 502.37 kB/s\n",
      "pandas-0.25.1-   7% |##                             | Time: 0:00:01 503.95 kB/s\n",
      "pandas-0.25.1-   7% |##                             | Time: 0:00:01 509.92 kB/s\n",
      "pandas-0.25.1-   7% |##                             | Time: 0:00:01 511.66 kB/s\n",
      "pandas-0.25.1-   7% |##                             | Time: 0:00:01 512.33 kB/s\n",
      "pandas-0.25.1-   7% |##                             | Time: 0:00:01 521.99 kB/s\n",
      "pandas-0.25.1-   7% |##                             | Time: 0:00:01 523.45 kB/s\n",
      "pandas-0.25.1-   8% |##                             | Time: 0:00:01 526.19 kB/s\n",
      "pandas-0.25.1-   8% |##                             | Time: 0:00:01 527.21 kB/s\n",
      "pandas-0.25.1-   8% |##                             | Time: 0:00:01 533.39 kB/s\n",
      "pandas-0.25.1-   8% |##                             | Time: 0:00:01 531.05 kB/s\n",
      "pandas-0.25.1-   8% |##                             | Time: 0:00:01 533.84 kB/s\n",
      "pandas-0.25.1-   8% |##                             | Time: 0:00:01 535.30 kB/s\n",
      "pandas-0.25.1-   9% |##                             | Time: 0:00:01 538.89 kB/s\n",
      "pandas-0.25.1-   9% |##                             | Time: 0:00:01 543.95 kB/s\n",
      "pandas-0.25.1-   9% |##                             | Time: 0:00:01 545.21 kB/s\n",
      "pandas-0.25.1-   9% |##                             | Time: 0:00:01 547.05 kB/s\n",
      "pandas-0.25.1-   9% |##                             | Time: 0:00:01 554.31 kB/s\n",
      "pandas-0.25.1-   9% |###                            | Time: 0:00:01 551.17 kB/s\n",
      "pandas-0.25.1-   9% |###                            | Time: 0:00:01 554.94 kB/s\n",
      "pandas-0.25.1-  10% |###                            | Time: 0:00:01 554.22 kB/s\n",
      "pandas-0.25.1-  10% |###                            | Time: 0:00:01 556.11 kB/s\n",
      "pandas-0.25.1-  10% |###                            | Time: 0:00:01 555.10 kB/s\n",
      "pandas-0.25.1-  10% |###                            | Time: 0:00:01 557.22 kB/s\n",
      "pandas-0.25.1-  10% |###                            | Time: 0:00:01 560.70 kB/s\n",
      "pandas-0.25.1-  10% |###                            | Time: 0:00:02 562.44 kB/s\n",
      "pandas-0.25.1-  11% |###                            | Time: 0:00:02 563.85 kB/s\n",
      "pandas-0.25.1-  11% |###                            | Time: 0:00:02 567.45 kB/s\n",
      "pandas-0.25.1-  11% |###                            | Time: 0:00:02 570.71 kB/s\n",
      "pandas-0.25.1-  11% |###                            | Time: 0:00:02 571.99 kB/s\n",
      "pandas-0.25.1-  11% |###                            | Time: 0:00:02 575.70 kB/s\n",
      "pandas-0.25.1-  11% |###                            | Time: 0:00:02 579.08 kB/s\n",
      "pandas-0.25.1-  12% |###                            | Time: 0:00:02 580.78 kB/s\n",
      "pandas-0.25.1-  12% |###                            | Time: 0:00:02 582.71 kB/s\n",
      "pandas-0.25.1-  12% |###                            | Time: 0:00:02 585.14 kB/s\n",
      "pandas-0.25.1-  12% |###                            | Time: 0:00:02 585.41 kB/s\n",
      "pandas-0.25.1-  12% |###                            | Time: 0:00:02 591.21 kB/s\n",
      "pandas-0.25.1-  12% |###                            | Time: 0:00:02 591.14 kB/s\n",
      "pandas-0.25.1-  13% |####                           | Time: 0:00:02 594.99 kB/s\n",
      "pandas-0.25.1-  13% |####                           | Time: 0:00:02 597.48 kB/s\n",
      "pandas-0.25.1-  13% |####                           | Time: 0:00:02 599.15 kB/s\n",
      "pandas-0.25.1-  13% |####                           | Time: 0:00:02 600.53 kB/s\n",
      "pandas-0.25.1-  13% |####                           | Time: 0:00:02 604.21 kB/s\n",
      "pandas-0.25.1-  13% |####                           | Time: 0:00:02 604.24 kB/s\n",
      "pandas-0.25.1-  13% |####                           | Time: 0:00:02 608.09 kB/s\n",
      "pandas-0.25.1-  14% |####                           | Time: 0:00:02 609.86 kB/s\n",
      "pandas-0.25.1-  14% |####                           | Time: 0:00:02 611.85 kB/s\n",
      "pandas-0.25.1-  14% |####                           | Time: 0:00:02 614.82 kB/s\n",
      "pandas-0.25.1-  14% |####                           | Time: 0:00:02 616.75 kB/s\n",
      "pandas-0.25.1-  14% |####                           | Time: 0:00:02 617.64 kB/s\n",
      "pandas-0.25.1-  14% |####                           | Time: 0:00:02 621.76 kB/s\n",
      "pandas-0.25.1-  15% |####                           | Time: 0:00:02 623.34 kB/s\n",
      "pandas-0.25.1-  15% |####                           | Time: 0:00:02 626.39 kB/s\n",
      "pandas-0.25.1-  15% |####                           | Time: 0:00:02 628.66 kB/s\n",
      "pandas-0.25.1-  15% |####                           | Time: 0:00:02 628.67 kB/s\n",
      "pandas-0.25.1-  15% |####                           | Time: 0:00:02 631.38 kB/s\n",
      "pandas-0.25.1-  15% |####                           | Time: 0:00:02 633.32 kB/s\n",
      "pandas-0.25.1-  16% |####                           | Time: 0:00:02 636.21 kB/s\n",
      "pandas-0.25.1-  16% |#####                          | Time: 0:00:02 637.61 kB/s\n",
      "pandas-0.25.1-  16% |#####                          | Time: 0:00:02 641.17 kB/s\n",
      "pandas-0.25.1-  16% |#####                          | Time: 0:00:02 642.03 kB/s\n",
      "pandas-0.25.1-  16% |#####                          | Time: 0:00:02 645.52 kB/s\n",
      "pandas-0.25.1-  16% |#####                          | Time: 0:00:02 647.78 kB/s\n",
      "pandas-0.25.1-  16% |#####                          | Time: 0:00:02 650.01 kB/s\n",
      "pandas-0.25.1-  17% |#####                          | Time: 0:00:02 649.82 kB/s\n",
      "pandas-0.25.1-  17% |#####                          | Time: 0:00:02 645.65 kB/s\n",
      "pandas-0.25.1-  17% |#####                          | Time: 0:00:02 651.57 kB/s\n",
      "pandas-0.25.1-  17% |#####                          | Time: 0:00:02 653.71 kB/s\n",
      "pandas-0.25.1-  17% |#####                          | Time: 0:00:02 654.19 kB/s\n",
      "pandas-0.25.1-  17% |#####                          | Time: 0:00:02 656.06 kB/s\n",
      "pandas-0.25.1-  18% |#####                          | Time: 0:00:02 655.59 kB/s\n",
      "pandas-0.25.1-  18% |#####                          | Time: 0:00:02 655.13 kB/s\n",
      "pandas-0.25.1-  18% |#####                          | Time: 0:00:02 657.17 kB/s\n",
      "pandas-0.25.1-  18% |#####                          | Time: 0:00:02 657.61 kB/s\n",
      "pandas-0.25.1-  18% |#####                          | Time: 0:00:02 658.04 kB/s\n",
      "pandas-0.25.1-  18% |#####                          | Time: 0:00:02 660.47 kB/s\n",
      "pandas-0.25.1-  19% |#####                          | Time: 0:00:02 659.76 kB/s\n",
      "pandas-0.25.1-  19% |#####                          | Time: 0:00:02 662.81 kB/s\n",
      "pandas-0.25.1-  19% |#####                          | Time: 0:00:03 663.19 kB/s\n",
      "pandas-0.25.1-  19% |######                         | Time: 0:00:03 662.69 kB/s\n",
      "pandas-0.25.1-  19% |######                         | Time: 0:00:03 663.93 kB/s\n",
      "pandas-0.25.1-  19% |######                         | Time: 0:00:03 664.94 kB/s\n",
      "pandas-0.25.1-  19% |######                         | Time: 0:00:03 664.22 kB/s\n",
      "pandas-0.25.1-  20% |######                         | Time: 0:00:03 665.42 kB/s\n",
      "pandas-0.25.1-  20% |######                         | Time: 0:00:03 667.67 kB/s\n",
      "pandas-0.25.1-  20% |######                         | Time: 0:00:03 667.57 kB/s\n",
      "pandas-0.25.1-  20% |######                         | Time: 0:00:03 670.21 kB/s\n",
      "pandas-0.25.1-  20% |######                         | Time: 0:00:03 668.42 kB/s\n",
      "pandas-0.25.1-  20% |######                         | Time: 0:00:03 669.77 kB/s\n",
      "pandas-0.25.1-  21% |######                         | Time: 0:00:03 671.52 kB/s\n",
      "pandas-0.25.1-  21% |######                         | Time: 0:00:03 671.80 kB/s\n",
      "pandas-0.25.1-  21% |######                         | Time: 0:00:03 673.73 kB/s\n",
      "pandas-0.25.1-  21% |######                         | Time: 0:00:03 673.38 kB/s\n",
      "pandas-0.25.1-  21% |######                         | Time: 0:00:03 674.87 kB/s\n",
      "pandas-0.25.1-  21% |######                         | Time: 0:00:03 675.53 kB/s\n",
      "pandas-0.25.1-  22% |######                         | Time: 0:00:03 676.78 kB/s\n",
      "pandas-0.25.1-  22% |######                         | Time: 0:00:03 677.62 kB/s\n",
      "pandas-0.25.1-  22% |######                         | Time: 0:00:03 678.86 kB/s\n",
      "pandas-0.25.1-  22% |######                         | Time: 0:00:03 680.47 kB/s\n",
      "pandas-0.25.1-  22% |#######                        | Time: 0:00:03 681.67 kB/s\n",
      "pandas-0.25.1-  22% |#######                        | Time: 0:00:03 684.05 kB/s\n",
      "pandas-0.25.1-  23% |#######                        | Time: 0:00:03 682.67 kB/s\n",
      "pandas-0.25.1-  23% |#######                        | Time: 0:00:03 684.82 kB/s\n",
      "pandas-0.25.1-  23% |#######                        | Time: 0:00:03 685.78 kB/s\n",
      "pandas-0.25.1-  23% |#######                        | Time: 0:00:03 686.34 kB/s\n",
      "pandas-0.25.1-  23% |#######                        | Time: 0:00:03 688.25 kB/s\n",
      "pandas-0.25.1-  23% |#######                        | Time: 0:00:03 688.98 kB/s\n",
      "pandas-0.25.1-  23% |#######                        | Time: 0:00:03 691.25 kB/s\n",
      "pandas-0.25.1-  24% |#######                        | Time: 0:00:03 692.35 kB/s\n",
      "pandas-0.25.1-  24% |#######                        | Time: 0:00:03 693.05 kB/s\n",
      "pandas-0.25.1-  24% |#######                        | Time: 0:00:03 695.08 kB/s\n",
      "pandas-0.25.1-  24% |#######                        | Time: 0:00:03 695.38 kB/s\n",
      "pandas-0.25.1-  24% |#######                        | Time: 0:00:03 698.53 kB/s\n",
      "pandas-0.25.1-  24% |#######                        | Time: 0:00:03 697.85 kB/s\n",
      "pandas-0.25.1-  25% |#######                        | Time: 0:00:03 698.13 kB/s\n",
      "pandas-0.25.1-  25% |#######                        | Time: 0:00:03 700.28 kB/s\n",
      "pandas-0.25.1-  25% |#######                        | Time: 0:00:03 700.55 kB/s\n",
      "pandas-0.25.1-  25% |#######                        | Time: 0:00:03 703.61 kB/s\n",
      "pandas-0.25.1-  25% |#######                        | Time: 0:00:03 703.10 kB/s\n",
      "pandas-0.25.1-  25% |########                       | Time: 0:00:03 706.13 kB/s\n",
      "pandas-0.25.1-  26% |########                       | Time: 0:00:03 705.98 kB/s\n",
      "pandas-0.25.1-  26% |########                       | Time: 0:00:03 708.06 kB/s\n",
      "pandas-0.25.1-  26% |########                       | Time: 0:00:03 708.45 kB/s\n",
      "pandas-0.25.1-  26% |########                       | Time: 0:00:03 710.68 kB/s\n",
      "pandas-0.25.1-  26% |########                       | Time: 0:00:03 710.69 kB/s\n",
      "pandas-0.25.1-  26% |########                       | Time: 0:00:03 711.80 kB/s\n",
      "pandas-0.25.1-  26% |########                       | Time: 0:00:03 712.89 kB/s\n",
      "pandas-0.25.1-  27% |########                       | Time: 0:00:03 714.16 kB/s\n",
      "pandas-0.25.1-  27% |########                       | Time: 0:00:03 715.97 kB/s\n",
      "pandas-0.25.1-  27% |########                       | Time: 0:00:03 716.31 kB/s\n",
      "pandas-0.25.1-  27% |########                       | Time: 0:00:03 718.81 kB/s\n",
      "pandas-0.25.1-  27% |########                       | Time: 0:00:03 719.50 kB/s\n",
      "pandas-0.25.1-  27% |########                       | Time: 0:00:03 721.44 kB/s\n",
      "pandas-0.25.1-  28% |########                       | Time: 0:00:04 722.10 kB/s\n",
      "pandas-0.25.1-  28% |########                       | Time: 0:00:04 724.92 kB/s\n",
      "pandas-0.25.1-  28% |########                       | Time: 0:00:04 726.46 kB/s\n",
      "pandas-0.25.1-  28% |########                       | Time: 0:00:04 727.82 kB/s\n",
      "pandas-0.25.1-  28% |########                       | Time: 0:00:04 728.09 kB/s\n",
      "pandas-0.25.1-  28% |########                       | Time: 0:00:04 729.60 kB/s\n",
      "pandas-0.25.1-  29% |########                       | Time: 0:00:04 730.93 kB/s\n",
      "pandas-0.25.1-  29% |#########                      | Time: 0:00:04 730.65 kB/s\n",
      "pandas-0.25.1-  29% |#########                      | Time: 0:00:04 732.84 kB/s\n",
      "pandas-0.25.1-  29% |#########                      | Time: 0:00:04 735.74 kB/s\n",
      "pandas-0.25.1-  29% |#########                      | Time: 0:00:04 736.14 kB/s\n",
      "pandas-0.25.1-  29% |#########                      | Time: 0:00:04 739.01 kB/s\n",
      "pandas-0.25.1-  29% |#########                      | Time: 0:00:04 737.81 kB/s\n",
      "pandas-0.25.1-  30% |#########                      | Time: 0:00:04 739.42 kB/s\n",
      "pandas-0.25.1-  30% |#########                      | Time: 0:00:04 741.02 kB/s\n",
      "pandas-0.25.1-  30% |#########                      | Time: 0:00:04 740.35 kB/s\n",
      "pandas-0.25.1-  30% |#########                      | Time: 0:00:04 743.50 kB/s\n",
      "pandas-0.25.1-  30% |#########                      | Time: 0:00:04 745.25 kB/s\n",
      "pandas-0.25.1-  30% |#########                      | Time: 0:00:04 746.64 kB/s\n",
      "pandas-0.25.1-  31% |#########                      | Time: 0:00:04 747.50 kB/s\n",
      "pandas-0.25.1-  31% |#########                      | Time: 0:00:04 748.53 kB/s\n",
      "pandas-0.25.1-  31% |#########                      | Time: 0:00:04 750.59 kB/s\n",
      "pandas-0.25.1-  31% |#########                      | Time: 0:00:04 751.07 kB/s\n",
      "pandas-0.25.1-  31% |#########                      | Time: 0:00:04 752.94 kB/s\n",
      "pandas-0.25.1-  31% |#########                      | Time: 0:00:04 754.80 kB/s\n",
      "pandas-0.25.1-  32% |#########                      | Time: 0:00:04 755.09 kB/s\n",
      "pandas-0.25.1-  32% |#########                      | Time: 0:00:04 757.45 kB/s\n",
      "pandas-0.25.1-  32% |##########                     | Time: 0:00:04 757.38 kB/s\n",
      "pandas-0.25.1-  32% |##########                     | Time: 0:00:04 759.55 kB/s\n",
      "pandas-0.25.1-  32% |##########                     | Time: 0:00:04 759.82 kB/s\n",
      "pandas-0.25.1-  32% |##########                     | Time: 0:00:04 761.62 kB/s\n",
      "pandas-0.25.1-  32% |##########                     | Time: 0:00:04 762.39 kB/s\n",
      "pandas-0.25.1-  33% |##########                     | Time: 0:00:04 764.17 kB/s\n",
      "pandas-0.25.1-  33% |##########                     | Time: 0:00:04 764.93 kB/s\n",
      "pandas-0.25.1-  33% |##########                     | Time: 0:00:04 766.35 kB/s\n",
      "pandas-0.25.1-  33% |##########                     | Time: 0:00:04 767.43 kB/s\n",
      "pandas-0.25.1-  33% |##########                     | Time: 0:00:04 768.68 kB/s\n",
      "pandas-0.25.1-  33% |##########                     | Time: 0:00:04 769.24 kB/s\n",
      "pandas-0.25.1-  34% |##########                     | Time: 0:00:04 769.96 kB/s\n",
      "pandas-0.25.1-  34% |##########                     | Time: 0:00:04 771.68 kB/s\n",
      "pandas-0.25.1-  34% |##########                     | Time: 0:00:04 772.56 kB/s\n",
      "pandas-0.25.1-  34% |##########                     | Time: 0:00:04 773.77 kB/s\n",
      "pandas-0.25.1-  34% |##########                     | Time: 0:00:04 775.64 kB/s\n",
      "pandas-0.25.1-  34% |##########                     | Time: 0:00:04 777.00 kB/s\n",
      "pandas-0.25.1-  35% |##########                     | Time: 0:00:04 777.51 kB/s\n",
      "pandas-0.25.1-  35% |##########                     | Time: 0:00:04 779.19 kB/s\n",
      "pandas-0.25.1-  35% |##########                     | Time: 0:00:04 780.52 kB/s\n",
      "pandas-0.25.1-  35% |###########                    | Time: 0:00:04 780.85 kB/s\n",
      "pandas-0.25.1-  35% |###########                    | Time: 0:00:04 782.01 kB/s\n",
      "pandas-0.25.1-  35% |###########                    | Time: 0:00:04 781.84 kB/s\n",
      "pandas-0.25.1-  36% |###########                    | Time: 0:00:04 783.97 kB/s\n",
      "pandas-0.25.1-  36% |###########                    | Time: 0:00:04 783.96 kB/s\n",
      "pandas-0.25.1-  36% |###########                    | Time: 0:00:04 784.92 kB/s\n",
      "pandas-0.25.1-  36% |###########                    | Time: 0:00:04 786.54 kB/s\n",
      "pandas-0.25.1-  36% |###########                    | Time: 0:00:04 788.32 kB/s\n",
      "pandas-0.25.1-  36% |###########                    | Time: 0:00:04 788.93 kB/s\n",
      "pandas-0.25.1-  36% |###########                    | Time: 0:00:04 791.02 kB/s\n",
      "pandas-0.25.1-  37% |###########                    | Time: 0:00:04 791.46 kB/s\n",
      "pandas-0.25.1-  37% |###########                    | Time: 0:00:04 793.21 kB/s\n",
      "pandas-0.25.1-  37% |###########                    | Time: 0:00:04 793.48 kB/s\n",
      "pandas-0.25.1-  37% |###########                    | Time: 0:00:04 795.70 kB/s\n",
      "pandas-0.25.1-  37% |###########                    | Time: 0:00:04 796.12 kB/s\n",
      "pandas-0.25.1-  37% |###########                    | Time: 0:00:04 797.35 kB/s\n",
      "pandas-0.25.1-  38% |###########                    | Time: 0:00:04 798.41 kB/s\n",
      "pandas-0.25.1-  38% |###########                    | Time: 0:00:04 800.27 kB/s\n",
      "pandas-0.25.1-  38% |###########                    | Time: 0:00:04 801.48 kB/s\n",
      "pandas-0.25.1-  38% |###########                    | Time: 0:00:04 802.85 kB/s\n",
      "pandas-0.25.1-  38% |###########                    | Time: 0:00:04 803.72 kB/s\n",
      "pandas-0.25.1-  38% |############                   | Time: 0:00:04 805.07 kB/s\n",
      "pandas-0.25.1-  39% |############                   | Time: 0:00:04 806.58 kB/s\n",
      "pandas-0.25.1-  39% |############                   | Time: 0:00:05 807.75 kB/s\n",
      "pandas-0.25.1-  39% |############                   | Time: 0:00:05 809.09 kB/s\n",
      "pandas-0.25.1-  39% |############                   | Time: 0:00:05 810.09 kB/s\n",
      "pandas-0.25.1-  39% |############                   | Time: 0:00:05 811.41 kB/s\n",
      "pandas-0.25.1-  39% |############                   | Time: 0:00:05 812.56 kB/s\n",
      "pandas-0.25.1-  39% |############                   | Time: 0:00:05 813.39 kB/s\n",
      "pandas-0.25.1-  40% |############                   | Time: 0:00:05 814.53 kB/s\n",
      "pandas-0.25.1-  40% |############                   | Time: 0:00:05 816.47 kB/s\n",
      "pandas-0.25.1-  40% |############                   | Time: 0:00:05 817.44 kB/s\n",
      "pandas-0.25.1-  40% |############                   | Time: 0:00:05 818.24 kB/s\n",
      "pandas-0.25.1-  40% |############                   | Time: 0:00:05 819.20 kB/s\n",
      "pandas-0.25.1-  40% |############                   | Time: 0:00:05 819.36 kB/s\n",
      "pandas-0.25.1-  41% |############                   | Time: 0:00:05 822.06 kB/s\n",
      "pandas-0.25.1-  41% |############                   | Time: 0:00:05 823.16 kB/s\n",
      "pandas-0.25.1-  41% |############                   | Time: 0:00:05 823.46 kB/s\n",
      "pandas-0.25.1-  41% |############                   | Time: 0:00:05 825.50 kB/s\n",
      "pandas-0.25.1-  41% |############                   | Time: 0:00:05 826.43 kB/s\n",
      "pandas-0.25.1-  41% |############                   | Time: 0:00:05 827.51 kB/s\n",
      "pandas-0.25.1-  42% |#############                  | Time: 0:00:05 828.90 kB/s\n",
      "pandas-0.25.1-  42% |#############                  | Time: 0:00:05 829.81 kB/s\n",
      "pandas-0.25.1-  42% |#############                  | Time: 0:00:05 831.82 kB/s\n",
      "pandas-0.25.1-  42% |#############                  | Time: 0:00:05 832.24 kB/s\n",
      "pandas-0.25.1-  42% |#############                  | Time: 0:00:05 833.77 kB/s\n",
      "pandas-0.25.1-  42% |#############                  | Time: 0:00:05 835.29 kB/s\n",
      "pandas-0.25.1-  42% |#############                  | Time: 0:00:05 836.17 kB/s\n",
      "pandas-0.25.1-  43% |#############                  | Time: 0:00:05 837.84 kB/s\n",
      "pandas-0.25.1-  43% |#############                  | Time: 0:00:05 838.87 kB/s\n",
      "pandas-0.25.1-  43% |#############                  | Time: 0:00:05 840.36 kB/s\n",
      "pandas-0.25.1-  43% |#############                  | Time: 0:00:05 841.07 kB/s\n",
      "pandas-0.25.1-  43% |#############                  | Time: 0:00:05 842.71 kB/s\n",
      "pandas-0.25.1-  43% |#############                  | Time: 0:00:05 843.72 kB/s\n",
      "pandas-0.25.1-  44% |#############                  | Time: 0:00:05 842.54 kB/s\n",
      "pandas-0.25.1-  44% |#############                  | Time: 0:00:05 843.07 kB/s\n",
      "pandas-0.25.1-  44% |#############                  | Time: 0:00:05 843.91 kB/s\n",
      "pandas-0.25.1-  44% |#############                  | Time: 0:00:05 845.37 kB/s\n",
      "pandas-0.25.1-  44% |#############                  | Time: 0:00:05 845.74 kB/s\n",
      "pandas-0.25.1-  44% |#############                  | Time: 0:00:05 847.65 kB/s\n",
      "pandas-0.25.1-  45% |#############                  | Time: 0:00:05 849.10 kB/s\n",
      "pandas-0.25.1-  45% |##############                 | Time: 0:00:05 849.30 kB/s\n",
      "pandas-0.25.1-  45% |##############                 | Time: 0:00:05 851.19 kB/s\n",
      "pandas-0.25.1-  45% |##############                 | Time: 0:00:05 851.69 kB/s\n",
      "pandas-0.25.1-  45% |##############                 | Time: 0:00:05 853.73 kB/s\n",
      "pandas-0.25.1-  45% |##############                 | Time: 0:00:05 853.30 kB/s\n",
      "pandas-0.25.1-  46% |##############                 | Time: 0:00:05 855.79 kB/s\n",
      "pandas-0.25.1-  46% |##############                 | Time: 0:00:05 856.43 kB/s\n",
      "pandas-0.25.1-  46% |##############                 | Time: 0:00:05 856.91 kB/s\n",
      "pandas-0.25.1-  46% |##############                 | Time: 0:00:05 858.61 kB/s\n",
      "pandas-0.25.1-  46% |##############                 | Time: 0:00:05 860.01 kB/s\n",
      "pandas-0.25.1-  46% |##############                 | Time: 0:00:05 860.93 kB/s\n",
      "pandas-0.25.1-  46% |##############                 | Time: 0:00:05 862.16 kB/s\n",
      "pandas-0.25.1-  47% |##############                 | Time: 0:00:05 862.47 kB/s\n",
      "pandas-0.25.1-  47% |##############                 | Time: 0:00:05 863.84 kB/s\n",
      "pandas-0.25.1-  47% |##############                 | Time: 0:00:05 865.36 kB/s\n",
      "pandas-0.25.1-  47% |##############                 | Time: 0:00:05 866.88 kB/s\n",
      "pandas-0.25.1-  47% |##############                 | Time: 0:00:05 867.32 kB/s\n",
      "pandas-0.25.1-  47% |##############                 | Time: 0:00:05 869.44 kB/s\n",
      "pandas-0.25.1-  48% |##############                 | Time: 0:00:05 869.57 kB/s\n",
      "pandas-0.25.1-  48% |##############                 | Time: 0:00:05 870.91 kB/s\n",
      "pandas-0.25.1-  48% |##############                 | Time: 0:00:05 873.01 kB/s\n",
      "pandas-0.25.1-  48% |###############                | Time: 0:00:05 872.98 kB/s\n",
      "pandas-0.25.1-  48% |###############                | Time: 0:00:05 874.31 kB/s\n",
      "pandas-0.25.1-  48% |###############                | Time: 0:00:05 876.09 kB/s\n",
      "pandas-0.25.1-  49% |###############                | Time: 0:00:05 875.13 kB/s\n",
      "pandas-0.25.1-  49% |###############                | Time: 0:00:05 877.21 kB/s\n",
      "pandas-0.25.1-  49% |###############                | Time: 0:00:05 878.67 kB/s\n",
      "pandas-0.25.1-  49% |###############                | Time: 0:00:05 878.77 kB/s\n",
      "pandas-0.25.1-  49% |###############                | Time: 0:00:05 879.92 kB/s\n",
      "pandas-0.25.1-  49% |###############                | Time: 0:00:05 881.52 kB/s\n",
      "pandas-0.25.1-  49% |###############                | Time: 0:00:05 882.22 kB/s\n",
      "pandas-0.25.1-  50% |###############                | Time: 0:00:05 883.51 kB/s\n",
      "pandas-0.25.1-  50% |###############                | Time: 0:00:05 884.64 kB/s\n",
      "pandas-0.25.1-  50% |###############                | Time: 0:00:05 884.87 kB/s\n",
      "pandas-0.25.1-  50% |###############                | Time: 0:00:05 886.60 kB/s\n",
      "pandas-0.25.1-  50% |###############                | Time: 0:00:05 887.12 kB/s\n",
      "pandas-0.25.1-  50% |###############                | Time: 0:00:05 888.24 kB/s\n",
      "pandas-0.25.1-  51% |###############                | Time: 0:00:05 890.56 kB/s\n",
      "pandas-0.25.1-  51% |###############                | Time: 0:00:05 890.17 kB/s\n",
      "pandas-0.25.1-  51% |###############                | Time: 0:00:05 890.82 kB/s\n",
      "pandas-0.25.1-  51% |###############                | Time: 0:00:05 893.12 kB/s\n",
      "pandas-0.25.1-  51% |################               | Time: 0:00:05 894.37 kB/s\n",
      "pandas-0.25.1-  51% |################               | Time: 0:00:05 893.67 kB/s\n",
      "pandas-0.25.1-  52% |################               | Time: 0:00:05 896.26 kB/s\n",
      "pandas-0.25.1-  52% |################               | Time: 0:00:06 897.19 kB/s\n",
      "pandas-0.25.1-  52% |################               | Time: 0:00:06 897.68 kB/s\n",
      "pandas-0.25.1-  52% |################               | Time: 0:00:06 899.50 kB/s\n",
      "pandas-0.25.1-  52% |################               | Time: 0:00:06 900.58 kB/s\n",
      "pandas-0.25.1-  52% |################               | Time: 0:00:06 901.50 kB/s\n",
      "pandas-0.25.1-  52% |################               | Time: 0:00:06 902.86 kB/s\n",
      "pandas-0.25.1-  53% |################               | Time: 0:00:06 903.18 kB/s\n",
      "pandas-0.25.1-  53% |################               | Time: 0:00:06 904.39 kB/s\n",
      "pandas-0.25.1-  53% |################               | Time: 0:00:06 906.19 kB/s\n",
      "pandas-0.25.1-  53% |################               | Time: 0:00:06 906.65 kB/s\n",
      "pandas-0.25.1-  53% |################               | Time: 0:00:06 907.55 kB/s\n",
      "pandas-0.25.1-  53% |################               | Time: 0:00:06 909.18 kB/s\n",
      "pandas-0.25.1-  54% |################               | Time: 0:00:06 909.63 kB/s\n",
      "pandas-0.25.1-  54% |################               | Time: 0:00:06 910.81 kB/s\n",
      "pandas-0.25.1-  54% |################               | Time: 0:00:06 911.99 kB/s\n",
      "pandas-0.25.1-  54% |################               | Time: 0:00:06 913.32 kB/s\n",
      "pandas-0.25.1-  54% |################               | Time: 0:00:06 914.05 kB/s\n",
      "pandas-0.25.1-  54% |#################              | Time: 0:00:06 914.48 kB/s\n",
      "pandas-0.25.1-  55% |#################              | Time: 0:00:06 916.38 kB/s\n",
      "pandas-0.25.1-  55% |#################              | Time: 0:00:06 917.25 kB/s\n",
      "pandas-0.25.1-  55% |#################              | Time: 0:00:06 917.67 kB/s\n",
      "pandas-0.25.1-  55% |#################              | Time: 0:00:06 919.56 kB/s\n",
      "pandas-0.25.1-  55% |#################              | Time: 0:00:06 920.71 kB/s\n",
      "pandas-0.25.1-  55% |#################              | Time: 0:00:06 921.13 kB/s\n",
      "pandas-0.25.1-  56% |#################              | Time: 0:00:06 922.71 kB/s\n",
      "pandas-0.25.1-  56% |#################              | Time: 0:00:06 923.85 kB/s\n",
      "pandas-0.25.1-  56% |#################              | Time: 0:00:06 924.55 kB/s\n",
      "pandas-0.25.1-  56% |#################              | Time: 0:00:06 925.83 kB/s\n",
      "pandas-0.25.1-  56% |#################              | Time: 0:00:06 927.69 kB/s\n",
      "pandas-0.25.1-  56% |#################              | Time: 0:00:06 927.79 kB/s\n",
      "pandas-0.25.1-  56% |#################              | Time: 0:00:06 929.06 kB/s\n",
      "pandas-0.25.1-  57% |#################              | Time: 0:00:06 930.03 kB/s\n",
      "pandas-0.25.1-  57% |#################              | Time: 0:00:06 930.70 kB/s\n",
      "pandas-0.25.1-  57% |#################              | Time: 0:00:06 932.11 kB/s\n",
      "pandas-0.25.1-  57% |#################              | Time: 0:00:06 933.22 kB/s\n",
      "pandas-0.25.1-  57% |#################              | Time: 0:00:06 934.61 kB/s\n",
      "pandas-0.25.1-  57% |#################              | Time: 0:00:06 935.13 kB/s\n",
      "pandas-0.25.1-  58% |#################              | Time: 0:00:06 936.52 kB/s\n",
      "pandas-0.25.1-  58% |##################             | Time: 0:00:06 936.89 kB/s\n",
      "pandas-0.25.1-  58% |##################             | Time: 0:00:06 938.12 kB/s\n",
      "pandas-0.25.1-  58% |##################             | Time: 0:00:06 939.65 kB/s\n",
      "pandas-0.25.1-  58% |##################             | Time: 0:00:06 939.71 kB/s\n",
      "pandas-0.25.1-  58% |##################             | Time: 0:00:06 941.52 kB/s\n",
      "pandas-0.25.1-  59% |##################             | Time: 0:00:06 942.75 kB/s\n",
      "pandas-0.25.1-  59% |##################             | Time: 0:00:06 942.65 kB/s\n",
      "pandas-0.25.1-  59% |##################             | Time: 0:00:06 944.45 kB/s\n",
      "pandas-0.25.1-  59% |##################             | Time: 0:00:06 945.67 kB/s\n",
      "pandas-0.25.1-  59% |##################             | Time: 0:00:06 946.15 kB/s\n",
      "pandas-0.25.1-  59% |##################             | Time: 0:00:06 947.50 kB/s\n",
      "pandas-0.25.1-  59% |##################             | Time: 0:00:06 948.27 kB/s\n",
      "pandas-0.25.1-  60% |##################             | Time: 0:00:06 949.62 kB/s\n",
      "pandas-0.25.1-  60% |##################             | Time: 0:00:06 949.80 kB/s\n",
      "pandas-0.25.1-  60% |##################             | Time: 0:00:06 950.99 kB/s\n",
      "pandas-0.25.1-  60% |##################             | Time: 0:00:06 952.04 kB/s\n",
      "pandas-0.25.1-  60% |##################             | Time: 0:00:06 953.51 kB/s\n",
      "pandas-0.25.1-  60% |##################             | Time: 0:00:06 954.12 kB/s\n",
      "pandas-0.25.1-  61% |##################             | Time: 0:00:06 954.72 kB/s\n",
      "pandas-0.25.1-  61% |##################             | Time: 0:00:07 901.91 kB/s\n",
      "pandas-0.25.1-  61% |###################            | Time: 0:00:07 904.12 kB/s\n",
      "pandas-0.25.1-  61% |###################            | Time: 0:00:07 906.46 kB/s\n",
      "pandas-0.25.1-  61% |###################            | Time: 0:00:07 908.79 kB/s\n",
      "pandas-0.25.1-  61% |###################            | Time: 0:00:07 911.00 kB/s\n",
      "pandas-0.25.1-  62% |###################            | Time: 0:00:07 913.34 kB/s\n",
      "pandas-0.25.1-  62% |###################            | Time: 0:00:07 915.67 kB/s\n",
      "pandas-0.25.1-  62% |###################            | Time: 0:00:07 917.88 kB/s\n",
      "pandas-0.25.1-  62% |###################            | Time: 0:00:07 920.21 kB/s\n",
      "pandas-0.25.1-  62% |###################            | Time: 0:00:07 922.55 kB/s\n",
      "pandas-0.25.1-  62% |###################            | Time: 0:00:07 924.88 kB/s\n",
      "pandas-0.25.1-  62% |###################            | Time: 0:00:07 927.09 kB/s\n",
      "pandas-0.25.1-  63% |###################            | Time: 0:00:07 929.42 kB/s\n",
      "pandas-0.25.1-  63% |###################            | Time: 0:00:07 931.76 kB/s\n",
      "pandas-0.25.1-  63% |###################            | Time: 0:00:07 934.09 kB/s\n",
      "pandas-0.25.1-  63% |###################            | Time: 0:00:07 936.30 kB/s\n",
      "pandas-0.25.1-  63% |###################            | Time: 0:00:07 938.63 kB/s\n",
      "pandas-0.25.1-  63% |###################            | Time: 0:00:07 940.83 kB/s\n",
      "pandas-0.25.1-  64% |###################            | Time: 0:00:07 943.03 kB/s\n",
      "pandas-0.25.1-  64% |###################            | Time: 0:00:07 945.37 kB/s\n",
      "pandas-0.25.1-  64% |###################            | Time: 0:00:07 947.70 kB/s\n",
      "pandas-0.25.1-  64% |####################           | Time: 0:00:07 949.90 kB/s\n",
      "pandas-0.25.1-  64% |####################           | Time: 0:00:07 952.23 kB/s\n",
      "pandas-0.25.1-  64% |####################           | Time: 0:00:07 954.57 kB/s\n",
      "pandas-0.25.1-  65% |####################           | Time: 0:00:07 956.90 kB/s\n",
      "pandas-0.25.1-  65% |####################           | Time: 0:00:07 959.10 kB/s\n",
      "pandas-0.25.1-  65% |####################           | Time: 0:00:07 961.43 kB/s\n",
      "pandas-0.25.1-  65% |####################           | Time: 0:00:07 963.63 kB/s\n",
      "pandas-0.25.1-  65% |####################           | Time: 0:00:07 965.82 kB/s\n",
      "pandas-0.25.1-  65% |####################           | Time: 0:00:07 968.16 kB/s\n",
      "pandas-0.25.1-  65% |####################           | Time: 0:00:07 970.35 kB/s\n",
      "pandas-0.25.1-  66% |####################           | Time: 0:00:07 972.68 kB/s\n",
      "pandas-0.25.1-  66% |####################           | Time: 0:00:07 974.88 kB/s\n",
      "pandas-0.25.1-  66% |####################           | Time: 0:00:07 977.21 kB/s\n",
      "pandas-0.25.1-  66% |####################           | Time: 0:00:07 979.54 kB/s\n",
      "pandas-0.25.1-  66% |####################           | Time: 0:00:07 981.73 kB/s\n",
      "pandas-0.25.1-  66% |####################           | Time: 0:00:07 984.07 kB/s\n",
      "pandas-0.25.1-  67% |####################           | Time: 0:00:07 986.40 kB/s\n",
      "pandas-0.25.1-  67% |####################           | Time: 0:00:07 988.59 kB/s\n",
      "pandas-0.25.1-  67% |####################           | Time: 0:00:07 988.25 kB/s\n",
      "pandas-0.25.1-  67% |####################           | Time: 0:00:07 990.01 kB/s\n",
      "pandas-0.25.1-  67% |####################           | Time: 0:00:07 990.51 kB/s\n",
      "pandas-0.25.1-  67% |#####################          | Time: 0:00:07 990.87 kB/s\n",
      "pandas-0.25.1-  68% |#####################          | Time: 0:00:07 992.76 kB/s\n",
      "pandas-0.25.1-  68% |#####################          | Time: 0:00:07 993.81 kB/s\n",
      "pandas-0.25.1-  68% |#####################          | Time: 0:00:07 994.30 kB/s\n",
      "pandas-0.25.1-  68% |#####################          | Time: 0:00:07 995.34 kB/s\n",
      "pandas-0.25.1-  68% |#####################          | Time: 0:00:07 996.67 kB/s\n",
      "pandas-0.25.1-  68% |#####################          | Time: 0:00:07 998.27 kB/s\n",
      "pandas-0.25.1-  69% |#####################          | Time: 0:00:07 998.60 kB/s\n",
      "pandas-0.25.1-  69% |#####################          | Time: 0:00:07 999.08 kB/s\n",
      "pandas-0.25.1-  69% |#####################          | Time: 0:00:07   1.00 MB/s\n",
      "pandas-0.25.1-  69% |#####################          | Time: 0:00:07   1.00 MB/s\n",
      "pandas-0.25.1-  69% |#####################          | Time: 0:00:07   1.00 MB/s\n",
      "pandas-0.25.1-  69% |#####################          | Time: 0:00:07   1.00 MB/s\n",
      "pandas-0.25.1-  69% |#####################          | Time: 0:00:07   1.00 MB/s\n",
      "pandas-0.25.1-  70% |#####################          | Time: 0:00:07   1.01 MB/s\n",
      "pandas-0.25.1-  70% |#####################          | Time: 0:00:07   1.01 MB/s\n",
      "pandas-0.25.1-  70% |#####################          | Time: 0:00:07   1.01 MB/s\n",
      "pandas-0.25.1-  70% |#####################          | Time: 0:00:07   1.01 MB/s\n",
      "pandas-0.25.1-  70% |#####################          | Time: 0:00:07   1.00 MB/s\n",
      "pandas-0.25.1-  70% |#####################          | Time: 0:00:07   1.01 MB/s\n",
      "pandas-0.25.1-  71% |######################         | Time: 0:00:07 973.22 kB/s\n",
      "pandas-0.25.1-  71% |######################         | Time: 0:00:07 973.33 kB/s\n",
      "pandas-0.25.1-  71% |######################         | Time: 0:00:07 973.82 kB/s\n",
      "pandas-0.25.1-  71% |######################         | Time: 0:00:07 974.31 kB/s\n",
      "pandas-0.25.1-  71% |######################         | Time: 0:00:08 832.83 kB/s\n",
      "pandas-0.25.1-  71% |######################         | Time: 0:00:08 832.15 kB/s\n",
      "pandas-0.25.1-  72% |######################         | Time: 0:00:08 831.75 kB/s\n",
      "pandas-0.25.1-  72% |######################         | Time: 0:00:08 832.74 kB/s\n",
      "pandas-0.25.1-  72% |######################         | Time: 0:00:08 832.16 kB/s\n",
      "pandas-0.25.1-  72% |######################         | Time: 0:00:08 833.42 kB/s\n",
      "pandas-0.25.1-  72% |######################         | Time: 0:00:09 833.49 kB/s\n",
      "pandas-0.25.1-  72% |######################         | Time: 0:00:09 834.47 kB/s\n",
      "pandas-0.25.1-  72% |######################         | Time: 0:00:09 835.64 kB/s\n",
      "pandas-0.25.1-  73% |######################         | Time: 0:00:09 835.97 kB/s\n",
      "pandas-0.25.1-  73% |######################         | Time: 0:00:09 836.95 kB/s\n",
      "pandas-0.25.1-  73% |######################         | Time: 0:00:09 838.12 kB/s\n",
      "pandas-0.25.1-  73% |######################         | Time: 0:00:09 839.28 kB/s\n",
      "pandas-0.25.1-  73% |######################         | Time: 0:00:09 841.09 kB/s\n",
      "pandas-0.25.1-  73% |######################         | Time: 0:00:09 842.80 kB/s\n",
      "pandas-0.25.1-  74% |######################         | Time: 0:00:09 844.52 kB/s\n",
      "pandas-0.25.1-  74% |#######################        | Time: 0:00:09 846.23 kB/s\n",
      "pandas-0.25.1-  74% |#######################        | Time: 0:00:09 848.04 kB/s\n",
      "pandas-0.25.1-  74% |#######################        | Time: 0:00:09 849.76 kB/s\n",
      "pandas-0.25.1-  74% |#######################        | Time: 0:00:09 851.56 kB/s\n",
      "pandas-0.25.1-  74% |#######################        | Time: 0:00:09 853.28 kB/s\n",
      "pandas-0.25.1-  75% |#######################        | Time: 0:00:09 855.08 kB/s\n",
      "pandas-0.25.1-  75% |#######################        | Time: 0:00:09 856.80 kB/s\n",
      "pandas-0.25.1-  75% |#######################        | Time: 0:00:09 858.61 kB/s\n",
      "pandas-0.25.1-  75% |#######################        | Time: 0:00:09 860.32 kB/s\n",
      "pandas-0.25.1-  75% |#######################        | Time: 0:00:09 862.03 kB/s\n",
      "pandas-0.25.1-  75% |#######################        | Time: 0:00:09 863.84 kB/s\n",
      "pandas-0.25.1-  75% |#######################        | Time: 0:00:09 865.55 kB/s\n",
      "pandas-0.25.1-  76% |#######################        | Time: 0:00:09 867.26 kB/s\n",
      "pandas-0.25.1-  76% |#######################        | Time: 0:00:09 869.07 kB/s\n",
      "pandas-0.25.1-  76% |#######################        | Time: 0:00:09 870.78 kB/s\n",
      "pandas-0.25.1-  76% |#######################        | Time: 0:00:09 872.58 kB/s\n",
      "pandas-0.25.1-  76% |#######################        | Time: 0:00:09 874.39 kB/s\n",
      "pandas-0.25.1-  76% |#######################        | Time: 0:00:09 876.10 kB/s\n",
      "pandas-0.25.1-  77% |#######################        | Time: 0:00:09 877.81 kB/s\n",
      "pandas-0.25.1-  77% |#######################        | Time: 0:00:09 879.62 kB/s\n",
      "pandas-0.25.1-  77% |#######################        | Time: 0:00:09 881.33 kB/s\n",
      "pandas-0.25.1-  77% |########################       | Time: 0:00:09 883.13 kB/s\n",
      "pandas-0.25.1-  77% |########################       | Time: 0:00:09 855.15 kB/s\n",
      "pandas-0.25.1-  77% |########################       | Time: 0:00:09 856.35 kB/s\n",
      "pandas-0.25.1-  78% |########################       | Time: 0:00:09 858.00 kB/s\n",
      "pandas-0.25.1-  78% |########################       | Time: 0:00:09 859.65 kB/s\n",
      "pandas-0.25.1-  78% |########################       | Time: 0:00:09 861.40 kB/s\n",
      "pandas-0.25.1-  78% |########################       | Time: 0:00:09 863.05 kB/s\n",
      "pandas-0.25.1-  78% |########################       | Time: 0:00:09 864.70 kB/s\n",
      "pandas-0.25.1-  78% |########################       | Time: 0:00:09 866.35 kB/s\n",
      "pandas-0.25.1-  79% |########################       | Time: 0:00:09 868.00 kB/s\n",
      "pandas-0.25.1-  79% |########################       | Time: 0:00:09 869.75 kB/s\n",
      "pandas-0.25.1-  79% |########################       | Time: 0:00:09 871.40 kB/s\n",
      "pandas-0.25.1-  79% |########################       | Time: 0:00:09 873.05 kB/s\n",
      "pandas-0.25.1-  79% |########################       | Time: 0:00:09 874.79 kB/s\n",
      "pandas-0.25.1-  79% |########################       | Time: 0:00:09 876.44 kB/s\n",
      "pandas-0.25.1-  79% |########################       | Time: 0:00:09 878.18 kB/s\n",
      "pandas-0.25.1-  80% |########################       | Time: 0:00:09 879.83 kB/s\n",
      "pandas-0.25.1-  80% |########################       | Time: 0:00:09 881.57 kB/s\n",
      "pandas-0.25.1-  80% |########################       | Time: 0:00:09 882.38 kB/s\n",
      "pandas-0.25.1-  80% |########################       | Time: 0:00:09 883.46 kB/s\n",
      "pandas-0.25.1-  80% |#########################      | Time: 0:00:09 884.35 kB/s\n",
      "pandas-0.25.1-  80% |#########################      | Time: 0:00:09 884.68 kB/s\n",
      "pandas-0.25.1-  81% |#########################      | Time: 0:00:09 885.76 kB/s\n",
      "pandas-0.25.1-  81% |#########################      | Time: 0:00:09 887.12 kB/s\n",
      "pandas-0.25.1-  81% |#########################      | Time: 0:00:09 888.57 kB/s\n",
      "pandas-0.25.1-  81% |#########################      | Time: 0:00:09 874.31 kB/s\n",
      "pandas-0.25.1-  81% |#########################      | Time: 0:00:11 709.47 kB/s\n",
      "pandas-0.25.1-  81% |#########################      | Time: 0:00:11 705.75 kB/s\n",
      "pandas-0.25.1-  82% |#########################      | Time: 0:00:12 705.17 kB/s\n",
      "pandas-0.25.1-  82% |#########################      | Time: 0:00:12 704.89 kB/s\n",
      "pandas-0.25.1-  82% |#########################      | Time: 0:00:12 705.67 kB/s\n",
      "pandas-0.25.1-  82% |#########################      | Time: 0:00:12 705.80 kB/s\n",
      "pandas-0.25.1-  82% |#########################      | Time: 0:00:12 706.34 kB/s\n",
      "pandas-0.25.1-  82% |#########################      | Time: 0:00:12 707.40 kB/s\n",
      "pandas-0.25.1-  82% |#########################      | Time: 0:00:12 708.11 kB/s\n",
      "pandas-0.25.1-  83% |#########################      | Time: 0:00:12 708.59 kB/s\n",
      "pandas-0.25.1-  83% |#########################      | Time: 0:00:12 709.70 kB/s\n",
      "pandas-0.25.1-  83% |#########################      | Time: 0:00:12 709.88 kB/s\n",
      "pandas-0.25.1-  83% |#########################      | Time: 0:00:12 710.71 kB/s\n",
      "pandas-0.25.1-  83% |#########################      | Time: 0:00:12 711.82 kB/s\n",
      "pandas-0.25.1-  83% |##########################     | Time: 0:00:12 713.17 kB/s\n",
      "pandas-0.25.1-  84% |##########################     | Time: 0:00:12 714.46 kB/s\n",
      "pandas-0.25.1-  84% |##########################     | Time: 0:00:12 715.75 kB/s\n",
      "pandas-0.25.1-  84% |##########################     | Time: 0:00:12 717.09 kB/s\n",
      "pandas-0.25.1-  84% |##########################     | Time: 0:00:12 718.38 kB/s\n",
      "pandas-0.25.1-  84% |##########################     | Time: 0:00:12 719.67 kB/s\n",
      "pandas-0.25.1-  84% |##########################     | Time: 0:00:12 721.02 kB/s\n",
      "pandas-0.25.1-  85% |##########################     | Time: 0:00:12 722.31 kB/s\n",
      "pandas-0.25.1-  85% |##########################     | Time: 0:00:12 723.60 kB/s\n",
      "pandas-0.25.1-  85% |##########################     | Time: 0:00:12 724.94 kB/s\n",
      "pandas-0.25.1-  85% |##########################     | Time: 0:00:12 726.29 kB/s\n",
      "pandas-0.25.1-  85% |##########################     | Time: 0:00:12 727.58 kB/s\n",
      "pandas-0.25.1-  85% |##########################     | Time: 0:00:12 728.87 kB/s\n",
      "pandas-0.25.1-  85% |##########################     | Time: 0:00:12 730.21 kB/s\n",
      "pandas-0.25.1-  86% |##########################     | Time: 0:00:12 731.50 kB/s\n",
      "pandas-0.25.1-  86% |##########################     | Time: 0:00:12 732.79 kB/s\n",
      "pandas-0.25.1-  86% |##########################     | Time: 0:00:12 734.13 kB/s\n",
      "pandas-0.25.1-  86% |##########################     | Time: 0:00:12 735.42 kB/s\n",
      "pandas-0.25.1-  86% |##########################     | Time: 0:00:12 736.77 kB/s\n",
      "pandas-0.25.1-  86% |##########################     | Time: 0:00:12 738.05 kB/s\n",
      "pandas-0.25.1-  87% |##########################     | Time: 0:00:12 739.40 kB/s\n",
      "pandas-0.25.1-  87% |###########################    | Time: 0:00:12 740.69 kB/s\n",
      "pandas-0.25.1-  87% |###########################    | Time: 0:00:12 742.03 kB/s\n",
      "pandas-0.25.1-  87% |###########################    | Time: 0:00:12 743.32 kB/s\n",
      "pandas-0.25.1-  87% |###########################    | Time: 0:00:12 744.60 kB/s\n",
      "pandas-0.25.1-  87% |###########################    | Time: 0:00:12 744.36 kB/s\n",
      "pandas-0.25.1-  88% |###########################    | Time: 0:00:12 745.34 kB/s\n",
      "pandas-0.25.1-  88% |###########################    | Time: 0:00:12 746.31 kB/s\n",
      "pandas-0.25.1-  88% |###########################    | Time: 0:00:12 746.19 kB/s\n",
      "pandas-0.25.1-  88% |###########################    | Time: 0:00:12 747.16 kB/s\n",
      "pandas-0.25.1-  88% |###########################    | Time: 0:00:12 748.13 kB/s\n",
      "pandas-0.25.1-  88% |###########################    | Time: 0:00:12 748.92 kB/s\n",
      "pandas-0.25.1-  88% |###########################    | Time: 0:00:12 749.28 kB/s\n",
      "pandas-0.25.1-  89% |###########################    | Time: 0:00:12 750.19 kB/s\n",
      "pandas-0.25.1-  89% |###########################    | Time: 0:00:12 750.61 kB/s\n",
      "pandas-0.25.1-  89% |###########################    | Time: 0:00:12 751.57 kB/s\n",
      "pandas-0.25.1-  89% |###########################    | Time: 0:00:12 752.48 kB/s\n",
      "pandas-0.25.1-  89% |###########################    | Time: 0:00:12 753.38 kB/s\n",
      "pandas-0.25.1-  89% |###########################    | Time: 0:00:12 754.10 kB/s\n",
      "pandas-0.25.1-  90% |###########################    | Time: 0:00:12 754.81 kB/s\n",
      "pandas-0.25.1-  90% |###########################    | Time: 0:00:12 755.59 kB/s\n",
      "pandas-0.25.1-  90% |############################   | Time: 0:00:12 756.25 kB/s\n",
      "pandas-0.25.1-  90% |############################   | Time: 0:00:12 757.08 kB/s\n",
      "pandas-0.25.1-  90% |############################   | Time: 0:00:12 757.67 kB/s\n",
      "pandas-0.25.1-  90% |############################   | Time: 0:00:12 758.38 kB/s\n",
      "pandas-0.25.1-  91% |############################   | Time: 0:00:12 759.40 kB/s\n",
      "pandas-0.25.1-  91% |############################   | Time: 0:00:12 760.23 kB/s\n",
      "pandas-0.25.1-  91% |############################   | Time: 0:00:12 760.76 kB/s\n",
      "pandas-0.25.1-  91% |############################   | Time: 0:00:12 761.65 kB/s\n",
      "pandas-0.25.1-  91% |############################   | Time: 0:00:12 762.54 kB/s\n",
      "pandas-0.25.1-  91% |############################   | Time: 0:00:12 763.30 kB/s\n",
      "pandas-0.25.1-  92% |############################   | Time: 0:00:12 763.95 kB/s\n",
      "pandas-0.25.1-  92% |############################   | Time: 0:00:12 764.77 kB/s\n",
      "pandas-0.25.1-  92% |############################   | Time: 0:00:12 765.66 kB/s\n",
      "pandas-0.25.1-  92% |############################   | Time: 0:00:12 766.42 kB/s\n",
      "pandas-0.25.1-  92% |############################   | Time: 0:00:12 767.24 kB/s\n",
      "pandas-0.25.1-  92% |############################   | Time: 0:00:12 767.94 kB/s\n",
      "pandas-0.25.1-  92% |############################   | Time: 0:00:12 768.88 kB/s\n",
      "pandas-0.25.1-  93% |############################   | Time: 0:00:12 769.45 kB/s\n",
      "pandas-0.25.1-  93% |############################   | Time: 0:00:12 770.27 kB/s\n",
      "pandas-0.25.1-  93% |############################   | Time: 0:00:12 771.27 kB/s\n",
      "pandas-0.25.1-  93% |#############################  | Time: 0:00:12 771.78 kB/s\n",
      "pandas-0.25.1-  93% |#############################  | Time: 0:00:12 772.72 kB/s\n",
      "pandas-0.25.1-  93% |#############################  | Time: 0:00:12 773.22 kB/s\n",
      "pandas-0.25.1-  94% |#############################  | Time: 0:00:12 774.16 kB/s\n",
      "pandas-0.25.1-  94% |#############################  | Time: 0:00:12 774.79 kB/s\n",
      "pandas-0.25.1-  94% |#############################  | Time: 0:00:12 775.84 kB/s\n",
      "pandas-0.25.1-  94% |#############################  | Time: 0:00:12 776.16 kB/s\n",
      "pandas-0.25.1-  94% |#############################  | Time: 0:00:12 777.03 kB/s\n",
      "pandas-0.25.1-  94% |#############################  | Time: 0:00:12 777.71 kB/s\n",
      "pandas-0.25.1-  95% |#############################  | Time: 0:00:12 778.52 kB/s\n",
      "pandas-0.25.1-  95% |#############################  | Time: 0:00:12 779.26 kB/s\n",
      "pandas-0.25.1-  95% |#############################  | Time: 0:00:12 779.82 kB/s\n",
      "pandas-0.25.1-  95% |#############################  | Time: 0:00:12 780.75 kB/s\n",
      "pandas-0.25.1-  95% |#############################  | Time: 0:00:12 781.55 kB/s\n",
      "pandas-0.25.1-  95% |#############################  | Time: 0:00:12 782.35 kB/s\n",
      "pandas-0.25.1-  95% |#############################  | Time: 0:00:12 782.78 kB/s\n",
      "pandas-0.25.1-  96% |#############################  | Time: 0:00:12 783.70 kB/s\n",
      "pandas-0.25.1-  96% |#############################  | Time: 0:00:12 784.31 kB/s\n",
      "pandas-0.25.1-  96% |#############################  | Time: 0:00:12 785.23 kB/s\n",
      "pandas-0.25.1-  96% |#############################  | Time: 0:00:12 785.91 kB/s\n",
      "pandas-0.25.1-  96% |#############################  | Time: 0:00:12 786.82 kB/s\n",
      "pandas-0.25.1-  96% |############################## | Time: 0:00:12 787.37 kB/s\n",
      "pandas-0.25.1-  97% |############################## | Time: 0:00:12 788.16 kB/s\n",
      "pandas-0.25.1-  97% |############################## | Time: 0:00:12 788.77 kB/s\n",
      "pandas-0.25.1-  97% |############################## | Time: 0:00:12 789.75 kB/s\n",
      "pandas-0.25.1-  97% |############################## | Time: 0:00:12 790.16 kB/s\n",
      "pandas-0.25.1-  97% |############################## | Time: 0:00:12 790.83 kB/s\n",
      "pandas-0.25.1-  97% |############################## | Time: 0:00:12 791.49 kB/s\n",
      "pandas-0.25.1-  98% |############################## | Time: 0:00:12 792.46 kB/s\n",
      "pandas-0.25.1-  98% |############################## | Time: 0:00:12 793.06 kB/s\n",
      "pandas-0.25.1-  98% |############################## | Time: 0:00:12 793.41 kB/s\n",
      "pandas-0.25.1-  98% |############################## | Time: 0:00:12 794.14 kB/s\n",
      "pandas-0.25.1-  98% |############################## | Time: 0:00:12 794.73 kB/s\n",
      "pandas-0.25.1-  98% |############################## | Time: 0:00:12 795.45 kB/s\n",
      "pandas-0.25.1-  98% |############################## | Time: 0:00:12 796.29 kB/s\n",
      "pandas-0.25.1-  99% |############################## | Time: 0:00:12 796.95 kB/s\n",
      "pandas-0.25.1-  99% |############################## | Time: 0:00:12 797.85 kB/s\n",
      "pandas-0.25.1-  99% |############################## | Time: 0:00:12 798.69 kB/s\n",
      "pandas-0.25.1-  99% |############################## | Time: 0:00:12 799.10 kB/s\n",
      "pandas-0.25.1-  99% |############################## | Time: 0:00:12 799.62 kB/s\n",
      "pandas-0.25.1-  99% |############################## | Time: 0:00:12 800.40 kB/s\n",
      "pandas-0.25.1- 100% |###############################| Time: 0:00:12 800.78 kB/s\n",
      "pandas-0.25.1- 100% |###############################| Time: 0:00:12 800.72 kB/s\n",
      "\n"
     ]
    },
    {
     "name": "stdout",
     "output_type": "stream",
     "text": [
      "\n",
      "Note: you may need to restart the kernel to use updated packages.\n"
     ]
    }
   ],
   "source": [
    "conda install pandas"
   ]
  },
  {
   "cell_type": "markdown",
   "metadata": {},
   "source": [
    "<p style=\"font-family: Arial; font-size:1.75em;color:#2462C0; font-style:bold\"><br>\n",
    "\n",
    "Import Libraries\n",
    "</p>"
   ]
  },
  {
   "cell_type": "code",
   "execution_count": 5,
   "metadata": {},
   "outputs": [],
   "source": [
    "import pandas as pd"
   ]
  },
  {
   "cell_type": "markdown",
   "metadata": {},
   "source": [
    "<p style=\"font-family: Arial; font-size:1.75em;color:#2462C0; font-style:bold\">\n",
    "Introduction to pandas Data Structures</p>\n",
    "<br>\n",
    "*pandas* has two main data structures it uses, namely, *Series* and *DataFrames*. \n",
    "\n",
    "<p style=\"font-family: Arial; font-size:1.75em;color:#2462C0; font-style:bold\">\n",
    "pandas Series</p>\n",
    "\n",
    "*pandas Series* one-dimensional labeled array. \n"
   ]
  },
  {
   "cell_type": "code",
   "execution_count": 4,
   "metadata": {},
   "outputs": [],
   "source": [
    "ser = pd.Series([100, 200, 300, 400, 500],['tom', 'bob', 'nancy', 'dan','eric'])"
   ]
  },
  {
   "cell_type": "code",
   "execution_count": 5,
   "metadata": {},
   "outputs": [
    {
     "data": {
      "text/plain": [
       "tom      100\n",
       "bob      200\n",
       "nancy    300\n",
       "dan      400\n",
       "eric     500\n",
       "dtype: int64"
      ]
     },
     "execution_count": 5,
     "metadata": {},
     "output_type": "execute_result"
    }
   ],
   "source": [
    "ser"
   ]
  },
  {
   "cell_type": "code",
   "execution_count": 4,
   "metadata": {},
   "outputs": [
    {
     "data": {
      "text/plain": [
       "Index(['tom', 'bob', 'nancy', 'dan', 'eric'], dtype='object')"
      ]
     },
     "execution_count": 4,
     "metadata": {},
     "output_type": "execute_result"
    }
   ],
   "source": [
    "ser.index"
   ]
  },
  {
   "cell_type": "code",
   "execution_count": 5,
   "metadata": {},
   "outputs": [
    {
     "data": {
      "text/plain": [
       "array([100, 200, 300, 400, 500])"
      ]
     },
     "execution_count": 5,
     "metadata": {},
     "output_type": "execute_result"
    }
   ],
   "source": [
    "ser.values"
   ]
  },
  {
   "cell_type": "code",
   "execution_count": 6,
   "metadata": {},
   "outputs": [
    {
     "data": {
      "text/plain": [
       "100"
      ]
     },
     "execution_count": 6,
     "metadata": {},
     "output_type": "execute_result"
    }
   ],
   "source": [
    "ser['tom']"
   ]
  },
  {
   "cell_type": "code",
   "execution_count": 7,
   "metadata": {},
   "outputs": [
    {
     "data": {
      "text/plain": [
       "tom      100\n",
       "bob      200\n",
       "nancy    300\n",
       "dtype: int64"
      ]
     },
     "execution_count": 7,
     "metadata": {},
     "output_type": "execute_result"
    }
   ],
   "source": [
    "ser['tom':'nancy']"
   ]
  },
  {
   "cell_type": "code",
   "execution_count": 8,
   "metadata": {},
   "outputs": [
    {
     "data": {
      "text/plain": [
       "tom      100\n",
       "nancy    300\n",
       "eric     500\n",
       "dtype: int64"
      ]
     },
     "execution_count": 8,
     "metadata": {},
     "output_type": "execute_result"
    }
   ],
   "source": [
    "ser[['tom','nancy','eric']]"
   ]
  },
  {
   "cell_type": "code",
   "execution_count": 9,
   "metadata": {},
   "outputs": [
    {
     "name": "stdout",
     "output_type": "stream",
     "text": [
      "300\n",
      "bob      200\n",
      "nancy    300\n",
      "dan      400\n",
      "dtype: int64\n",
      "bob     200\n",
      "dan     400\n",
      "eric    500\n",
      "dtype: int64\n"
     ]
    }
   ],
   "source": [
    "print(ser[2])\n",
    "print(ser[1:4])\n",
    "print(ser[[1,3,4]])"
   ]
  },
  {
   "cell_type": "code",
   "execution_count": 10,
   "metadata": {},
   "outputs": [
    {
     "data": {
      "text/plain": [
       "bob      200\n",
       "nancy    300\n",
       "dtype: int64"
      ]
     },
     "execution_count": 10,
     "metadata": {},
     "output_type": "execute_result"
    }
   ],
   "source": [
    "ser.loc[['bob','nancy']]"
   ]
  },
  {
   "cell_type": "code",
   "execution_count": 11,
   "metadata": {},
   "outputs": [
    {
     "data": {
      "text/plain": [
       "nancy    300\n",
       "dan      400\n",
       "eric     500\n",
       "dtype: int64"
      ]
     },
     "execution_count": 11,
     "metadata": {},
     "output_type": "execute_result"
    }
   ],
   "source": [
    "ser.iloc[2:5]"
   ]
  },
  {
   "cell_type": "code",
   "execution_count": 14,
   "metadata": {},
   "outputs": [
    {
     "data": {
      "text/plain": [
       "True"
      ]
     },
     "execution_count": 14,
     "metadata": {},
     "output_type": "execute_result"
    }
   ],
   "source": [
    "'tom' in ser"
   ]
  },
  {
   "cell_type": "code",
   "execution_count": 15,
   "metadata": {},
   "outputs": [
    {
     "data": {
      "text/plain": [
       "Series([], dtype: float64)"
      ]
     },
     "execution_count": 15,
     "metadata": {},
     "output_type": "execute_result"
    }
   ],
   "source": [
    "s=pd.Series()\n",
    "s"
   ]
  },
  {
   "cell_type": "code",
   "execution_count": 16,
   "metadata": {},
   "outputs": [
    {
     "data": {
      "text/plain": [
       "tom       200\n",
       "bob       400\n",
       "nancy     600\n",
       "dan       800\n",
       "eric     1000\n",
       "dtype: int64"
      ]
     },
     "execution_count": 16,
     "metadata": {},
     "output_type": "execute_result"
    }
   ],
   "source": [
    "ser*2"
   ]
  },
  {
   "cell_type": "code",
   "execution_count": 17,
   "metadata": {},
   "outputs": [
    {
     "data": {
      "text/plain": [
       "bob      40000\n",
       "eric    250000\n",
       "dtype: int64"
      ]
     },
     "execution_count": 17,
     "metadata": {},
     "output_type": "execute_result"
    }
   ],
   "source": [
    "ser[['bob', 'eric']] ** 2"
   ]
  },
  {
   "cell_type": "markdown",
   "metadata": {},
   "source": [
    "<p style=\"font-family: Arial; font-size:1.75em;color:#2462C0; font-style:bold\">\n",
    "pandas DataFrame</p>\n",
    "\n",
    "*pandas DataFrame* is a 2-dimensional labeled data structure."
   ]
  },
  {
   "cell_type": "markdown",
   "metadata": {},
   "source": [
    "<p style=\"font-family: Arial; font-size:1.25em;color:#2462C0; font-style:bold\">\n",
    "Create DataFrame from dictionary of Python Series</p>"
   ]
  },
  {
   "cell_type": "code",
   "execution_count": 30,
   "metadata": {},
   "outputs": [
    {
     "data": {
      "text/plain": [
       "{'one': apple    100.0\n",
       " ball     200.0\n",
       " clock    300.0\n",
       " dtype: float64, 'two': apple      111.0\n",
       " ball       222.0\n",
       " cerill     333.0\n",
       " dancy     4444.0\n",
       " dtype: float64}"
      ]
     },
     "execution_count": 30,
     "metadata": {},
     "output_type": "execute_result"
    }
   ],
   "source": [
    "d = {'one' : pd.Series([100., 200., 300.], index=['apple', 'ball', 'clock']),\n",
    "     'two' : pd.Series([111., 222., 333., 4444.], index=['apple', 'ball', 'cerill', 'dancy'])}\n",
    "d"
   ]
  },
  {
   "cell_type": "code",
   "execution_count": 31,
   "metadata": {},
   "outputs": [
    {
     "data": {
      "text/html": [
       "<div>\n",
       "<table border=\"1\" class=\"dataframe\">\n",
       "  <thead>\n",
       "    <tr style=\"text-align: right;\">\n",
       "      <th></th>\n",
       "      <th>one</th>\n",
       "      <th>two</th>\n",
       "    </tr>\n",
       "  </thead>\n",
       "  <tbody>\n",
       "    <tr>\n",
       "      <th>apple</th>\n",
       "      <td>100.0</td>\n",
       "      <td>111.0</td>\n",
       "    </tr>\n",
       "    <tr>\n",
       "      <th>ball</th>\n",
       "      <td>200.0</td>\n",
       "      <td>222.0</td>\n",
       "    </tr>\n",
       "    <tr>\n",
       "      <th>cerill</th>\n",
       "      <td>NaN</td>\n",
       "      <td>333.0</td>\n",
       "    </tr>\n",
       "    <tr>\n",
       "      <th>clock</th>\n",
       "      <td>300.0</td>\n",
       "      <td>NaN</td>\n",
       "    </tr>\n",
       "    <tr>\n",
       "      <th>dancy</th>\n",
       "      <td>NaN</td>\n",
       "      <td>4444.0</td>\n",
       "    </tr>\n",
       "  </tbody>\n",
       "</table>\n",
       "</div>"
      ],
      "text/plain": [
       "          one     two\n",
       "apple   100.0   111.0\n",
       "ball    200.0   222.0\n",
       "cerill    NaN   333.0\n",
       "clock   300.0     NaN\n",
       "dancy     NaN  4444.0"
      ]
     },
     "execution_count": 31,
     "metadata": {},
     "output_type": "execute_result"
    }
   ],
   "source": [
    "df = pd.DataFrame(d)\n",
    "df"
   ]
  },
  {
   "cell_type": "code",
   "execution_count": 61,
   "metadata": {},
   "outputs": [
    {
     "data": {
      "text/plain": [
       "Index(['apple', 'ball', 'cerill', 'clock', 'dancy'], dtype='object')"
      ]
     },
     "execution_count": 61,
     "metadata": {},
     "output_type": "execute_result"
    }
   ],
   "source": [
    "df.index"
   ]
  },
  {
   "cell_type": "code",
   "execution_count": 62,
   "metadata": {},
   "outputs": [
    {
     "data": {
      "text/plain": [
       "Index(['one', 'two'], dtype='object')"
      ]
     },
     "execution_count": 62,
     "metadata": {},
     "output_type": "execute_result"
    }
   ],
   "source": [
    "df.columns"
   ]
  },
  {
   "cell_type": "code",
   "execution_count": 63,
   "metadata": {},
   "outputs": [
    {
     "data": {
      "text/plain": [
       "array([[ 100.,  111.],\n",
       "       [ 200.,  222.],\n",
       "       [  nan,  333.],\n",
       "       [ 300.,   nan],\n",
       "       [  nan, 4444.]])"
      ]
     },
     "execution_count": 63,
     "metadata": {},
     "output_type": "execute_result"
    }
   ],
   "source": [
    "df.values"
   ]
  },
  {
   "cell_type": "code",
   "execution_count": 22,
   "metadata": {},
   "outputs": [
    {
     "data": {
      "text/html": [
       "<div>\n",
       "<table border=\"1\" class=\"dataframe\">\n",
       "  <thead>\n",
       "    <tr style=\"text-align: right;\">\n",
       "      <th></th>\n",
       "      <th>one</th>\n",
       "      <th>two</th>\n",
       "    </tr>\n",
       "  </thead>\n",
       "  <tbody>\n",
       "    <tr>\n",
       "      <th>apple</th>\n",
       "      <td>100.0</td>\n",
       "      <td>111.0</td>\n",
       "    </tr>\n",
       "    <tr>\n",
       "      <th>ball</th>\n",
       "      <td>200.0</td>\n",
       "      <td>222.0</td>\n",
       "    </tr>\n",
       "    <tr>\n",
       "      <th>cerill</th>\n",
       "      <td>NaN</td>\n",
       "      <td>333.0</td>\n",
       "    </tr>\n",
       "    <tr>\n",
       "      <th>clock</th>\n",
       "      <td>300.0</td>\n",
       "      <td>NaN</td>\n",
       "    </tr>\n",
       "    <tr>\n",
       "      <th>dancy</th>\n",
       "      <td>NaN</td>\n",
       "      <td>4444.0</td>\n",
       "    </tr>\n",
       "  </tbody>\n",
       "</table>\n",
       "</div>"
      ],
      "text/plain": [
       "          one     two\n",
       "apple   100.0   111.0\n",
       "ball    200.0   222.0\n",
       "cerill    NaN   333.0\n",
       "clock   300.0     NaN\n",
       "dancy     NaN  4444.0"
      ]
     },
     "execution_count": 22,
     "metadata": {},
     "output_type": "execute_result"
    }
   ],
   "source": [
    "df"
   ]
  },
  {
   "cell_type": "code",
   "execution_count": 20,
   "metadata": {},
   "outputs": [
    {
     "data": {
      "text/html": [
       "<div>\n",
       "<table border=\"1\" class=\"dataframe\">\n",
       "  <thead>\n",
       "    <tr style=\"text-align: right;\">\n",
       "      <th></th>\n",
       "      <th>one</th>\n",
       "      <th>two</th>\n",
       "    </tr>\n",
       "  </thead>\n",
       "  <tbody>\n",
       "    <tr>\n",
       "      <th>dancy</th>\n",
       "      <td>NaN</td>\n",
       "      <td>4444.0</td>\n",
       "    </tr>\n",
       "    <tr>\n",
       "      <th>ball</th>\n",
       "      <td>200.0</td>\n",
       "      <td>222.0</td>\n",
       "    </tr>\n",
       "    <tr>\n",
       "      <th>apple</th>\n",
       "      <td>100.0</td>\n",
       "      <td>111.0</td>\n",
       "    </tr>\n",
       "  </tbody>\n",
       "</table>\n",
       "</div>"
      ],
      "text/plain": [
       "         one     two\n",
       "dancy    NaN  4444.0\n",
       "ball   200.0   222.0\n",
       "apple  100.0   111.0"
      ]
     },
     "execution_count": 20,
     "metadata": {},
     "output_type": "execute_result"
    }
   ],
   "source": [
    "pd.DataFrame(d, index=['dancy', 'ball', 'apple'])"
   ]
  },
  {
   "cell_type": "code",
   "execution_count": 23,
   "metadata": {},
   "outputs": [
    {
     "data": {
      "text/html": [
       "<div>\n",
       "<table border=\"1\" class=\"dataframe\">\n",
       "  <thead>\n",
       "    <tr style=\"text-align: right;\">\n",
       "      <th></th>\n",
       "      <th>two</th>\n",
       "      <th>five</th>\n",
       "    </tr>\n",
       "  </thead>\n",
       "  <tbody>\n",
       "    <tr>\n",
       "      <th>dancy</th>\n",
       "      <td>4444.0</td>\n",
       "      <td>NaN</td>\n",
       "    </tr>\n",
       "    <tr>\n",
       "      <th>ball</th>\n",
       "      <td>222.0</td>\n",
       "      <td>NaN</td>\n",
       "    </tr>\n",
       "    <tr>\n",
       "      <th>apple</th>\n",
       "      <td>111.0</td>\n",
       "      <td>NaN</td>\n",
       "    </tr>\n",
       "  </tbody>\n",
       "</table>\n",
       "</div>"
      ],
      "text/plain": [
       "          two five\n",
       "dancy  4444.0  NaN\n",
       "ball    222.0  NaN\n",
       "apple   111.0  NaN"
      ]
     },
     "execution_count": 23,
     "metadata": {},
     "output_type": "execute_result"
    }
   ],
   "source": [
    "pd.DataFrame(d, index=['dancy', 'ball', 'apple'], columns=['two', 'five'])"
   ]
  },
  {
   "cell_type": "markdown",
   "metadata": {},
   "source": [
    "<p style=\"font-family: Arial; font-size:1.25em;color:#2462C0; font-style:bold\">\n",
    "Create DataFrame from list of Python dictionaries</p>"
   ]
  },
  {
   "cell_type": "code",
   "execution_count": 24,
   "metadata": {},
   "outputs": [],
   "source": [
    "data = [{'alex': 1, 'joe': 2}, {'ema': 5, 'dora': 10, 'alice': 20}]"
   ]
  },
  {
   "cell_type": "code",
   "execution_count": 25,
   "metadata": {},
   "outputs": [
    {
     "data": {
      "text/html": [
       "<div>\n",
       "<table border=\"1\" class=\"dataframe\">\n",
       "  <thead>\n",
       "    <tr style=\"text-align: right;\">\n",
       "      <th></th>\n",
       "      <th>alex</th>\n",
       "      <th>alice</th>\n",
       "      <th>dora</th>\n",
       "      <th>ema</th>\n",
       "      <th>joe</th>\n",
       "    </tr>\n",
       "  </thead>\n",
       "  <tbody>\n",
       "    <tr>\n",
       "      <th>0</th>\n",
       "      <td>1.0</td>\n",
       "      <td>NaN</td>\n",
       "      <td>NaN</td>\n",
       "      <td>NaN</td>\n",
       "      <td>2.0</td>\n",
       "    </tr>\n",
       "    <tr>\n",
       "      <th>1</th>\n",
       "      <td>NaN</td>\n",
       "      <td>20.0</td>\n",
       "      <td>10.0</td>\n",
       "      <td>5.0</td>\n",
       "      <td>NaN</td>\n",
       "    </tr>\n",
       "  </tbody>\n",
       "</table>\n",
       "</div>"
      ],
      "text/plain": [
       "   alex  alice  dora  ema  joe\n",
       "0   1.0    NaN   NaN  NaN  2.0\n",
       "1   NaN   20.0  10.0  5.0  NaN"
      ]
     },
     "execution_count": 25,
     "metadata": {},
     "output_type": "execute_result"
    }
   ],
   "source": [
    "pd.DataFrame(data)"
   ]
  },
  {
   "cell_type": "code",
   "execution_count": 26,
   "metadata": {},
   "outputs": [
    {
     "data": {
      "text/html": [
       "<div>\n",
       "<table border=\"1\" class=\"dataframe\">\n",
       "  <thead>\n",
       "    <tr style=\"text-align: right;\">\n",
       "      <th></th>\n",
       "      <th>alex</th>\n",
       "      <th>alice</th>\n",
       "      <th>dora</th>\n",
       "      <th>ema</th>\n",
       "      <th>joe</th>\n",
       "    </tr>\n",
       "  </thead>\n",
       "  <tbody>\n",
       "    <tr>\n",
       "      <th>orange</th>\n",
       "      <td>1.0</td>\n",
       "      <td>NaN</td>\n",
       "      <td>NaN</td>\n",
       "      <td>NaN</td>\n",
       "      <td>2.0</td>\n",
       "    </tr>\n",
       "    <tr>\n",
       "      <th>red</th>\n",
       "      <td>NaN</td>\n",
       "      <td>20.0</td>\n",
       "      <td>10.0</td>\n",
       "      <td>5.0</td>\n",
       "      <td>NaN</td>\n",
       "    </tr>\n",
       "  </tbody>\n",
       "</table>\n",
       "</div>"
      ],
      "text/plain": [
       "        alex  alice  dora  ema  joe\n",
       "orange   1.0    NaN   NaN  NaN  2.0\n",
       "red      NaN   20.0  10.0  5.0  NaN"
      ]
     },
     "execution_count": 26,
     "metadata": {},
     "output_type": "execute_result"
    }
   ],
   "source": [
    "pd.DataFrame(data, index=['orange', 'red'])"
   ]
  },
  {
   "cell_type": "code",
   "execution_count": 27,
   "metadata": {},
   "outputs": [],
   "source": [
    "df=pd.DataFrame(data, columns=['joe', 'dora','alice'])"
   ]
  },
  {
   "cell_type": "markdown",
   "metadata": {},
   "source": [
    "<p style=\"font-family: Arial; font-size:1.25em;color:#2462C0; font-style:bold\">\n",
    "Basic DataFrame operations</p>"
   ]
  },
  {
   "cell_type": "code",
   "execution_count": 32,
   "metadata": {},
   "outputs": [
    {
     "data": {
      "text/html": [
       "<div>\n",
       "<table border=\"1\" class=\"dataframe\">\n",
       "  <thead>\n",
       "    <tr style=\"text-align: right;\">\n",
       "      <th></th>\n",
       "      <th>one</th>\n",
       "      <th>two</th>\n",
       "    </tr>\n",
       "  </thead>\n",
       "  <tbody>\n",
       "    <tr>\n",
       "      <th>apple</th>\n",
       "      <td>100.0</td>\n",
       "      <td>111.0</td>\n",
       "    </tr>\n",
       "    <tr>\n",
       "      <th>ball</th>\n",
       "      <td>200.0</td>\n",
       "      <td>222.0</td>\n",
       "    </tr>\n",
       "    <tr>\n",
       "      <th>cerill</th>\n",
       "      <td>NaN</td>\n",
       "      <td>333.0</td>\n",
       "    </tr>\n",
       "    <tr>\n",
       "      <th>clock</th>\n",
       "      <td>300.0</td>\n",
       "      <td>NaN</td>\n",
       "    </tr>\n",
       "    <tr>\n",
       "      <th>dancy</th>\n",
       "      <td>NaN</td>\n",
       "      <td>4444.0</td>\n",
       "    </tr>\n",
       "  </tbody>\n",
       "</table>\n",
       "</div>"
      ],
      "text/plain": [
       "          one     two\n",
       "apple   100.0   111.0\n",
       "ball    200.0   222.0\n",
       "cerill    NaN   333.0\n",
       "clock   300.0     NaN\n",
       "dancy     NaN  4444.0"
      ]
     },
     "execution_count": 32,
     "metadata": {},
     "output_type": "execute_result"
    }
   ],
   "source": [
    "df"
   ]
  },
  {
   "cell_type": "code",
   "execution_count": 33,
   "metadata": {},
   "outputs": [
    {
     "data": {
      "text/plain": [
       "apple     100.0\n",
       "ball      200.0\n",
       "cerill      NaN\n",
       "clock     300.0\n",
       "dancy       NaN\n",
       "Name: one, dtype: float64"
      ]
     },
     "execution_count": 33,
     "metadata": {},
     "output_type": "execute_result"
    }
   ],
   "source": [
    "df['one']"
   ]
  },
  {
   "cell_type": "code",
   "execution_count": 34,
   "metadata": {
    "scrolled": true
   },
   "outputs": [
    {
     "data": {
      "text/html": [
       "<div>\n",
       "<table border=\"1\" class=\"dataframe\">\n",
       "  <thead>\n",
       "    <tr style=\"text-align: right;\">\n",
       "      <th></th>\n",
       "      <th>one</th>\n",
       "      <th>two</th>\n",
       "      <th>three</th>\n",
       "    </tr>\n",
       "  </thead>\n",
       "  <tbody>\n",
       "    <tr>\n",
       "      <th>apple</th>\n",
       "      <td>100.0</td>\n",
       "      <td>111.0</td>\n",
       "      <td>211.0</td>\n",
       "    </tr>\n",
       "    <tr>\n",
       "      <th>ball</th>\n",
       "      <td>200.0</td>\n",
       "      <td>222.0</td>\n",
       "      <td>422.0</td>\n",
       "    </tr>\n",
       "    <tr>\n",
       "      <th>cerill</th>\n",
       "      <td>NaN</td>\n",
       "      <td>333.0</td>\n",
       "      <td>NaN</td>\n",
       "    </tr>\n",
       "    <tr>\n",
       "      <th>clock</th>\n",
       "      <td>300.0</td>\n",
       "      <td>NaN</td>\n",
       "      <td>NaN</td>\n",
       "    </tr>\n",
       "    <tr>\n",
       "      <th>dancy</th>\n",
       "      <td>NaN</td>\n",
       "      <td>4444.0</td>\n",
       "      <td>NaN</td>\n",
       "    </tr>\n",
       "  </tbody>\n",
       "</table>\n",
       "</div>"
      ],
      "text/plain": [
       "          one     two  three\n",
       "apple   100.0   111.0  211.0\n",
       "ball    200.0   222.0  422.0\n",
       "cerill    NaN   333.0    NaN\n",
       "clock   300.0     NaN    NaN\n",
       "dancy     NaN  4444.0    NaN"
      ]
     },
     "execution_count": 34,
     "metadata": {},
     "output_type": "execute_result"
    }
   ],
   "source": [
    "df['three'] = df['one'] + df['two']\n",
    "df"
   ]
  },
  {
   "cell_type": "code",
   "execution_count": 38,
   "metadata": {},
   "outputs": [
    {
     "data": {
      "text/html": [
       "<div>\n",
       "<table border=\"1\" class=\"dataframe\">\n",
       "  <thead>\n",
       "    <tr style=\"text-align: right;\">\n",
       "      <th></th>\n",
       "      <th>one</th>\n",
       "      <th>two</th>\n",
       "      <th>flag</th>\n",
       "    </tr>\n",
       "  </thead>\n",
       "  <tbody>\n",
       "    <tr>\n",
       "      <th>apple</th>\n",
       "      <td>100.0</td>\n",
       "      <td>111.0</td>\n",
       "      <td>False</td>\n",
       "    </tr>\n",
       "    <tr>\n",
       "      <th>ball</th>\n",
       "      <td>200.0</td>\n",
       "      <td>222.0</td>\n",
       "      <td>False</td>\n",
       "    </tr>\n",
       "    <tr>\n",
       "      <th>cerill</th>\n",
       "      <td>NaN</td>\n",
       "      <td>333.0</td>\n",
       "      <td>False</td>\n",
       "    </tr>\n",
       "    <tr>\n",
       "      <th>clock</th>\n",
       "      <td>300.0</td>\n",
       "      <td>NaN</td>\n",
       "      <td>True</td>\n",
       "    </tr>\n",
       "    <tr>\n",
       "      <th>dancy</th>\n",
       "      <td>NaN</td>\n",
       "      <td>4444.0</td>\n",
       "      <td>False</td>\n",
       "    </tr>\n",
       "  </tbody>\n",
       "</table>\n",
       "</div>"
      ],
      "text/plain": [
       "          one     two   flag\n",
       "apple   100.0   111.0  False\n",
       "ball    200.0   222.0  False\n",
       "cerill    NaN   333.0  False\n",
       "clock   300.0     NaN   True\n",
       "dancy     NaN  4444.0  False"
      ]
     },
     "execution_count": 38,
     "metadata": {},
     "output_type": "execute_result"
    }
   ],
   "source": [
    "df['flag'] = df['one'] > 250\n",
    "df"
   ]
  },
  {
   "cell_type": "code",
   "execution_count": 35,
   "metadata": {},
   "outputs": [],
   "source": [
    "three = df.pop('three')"
   ]
  },
  {
   "cell_type": "code",
   "execution_count": 36,
   "metadata": {},
   "outputs": [
    {
     "data": {
      "text/plain": [
       "apple     211.0\n",
       "ball      422.0\n",
       "cerill      NaN\n",
       "clock       NaN\n",
       "dancy       NaN\n",
       "Name: three, dtype: float64"
      ]
     },
     "execution_count": 36,
     "metadata": {},
     "output_type": "execute_result"
    }
   ],
   "source": [
    "three"
   ]
  },
  {
   "cell_type": "code",
   "execution_count": 39,
   "metadata": {},
   "outputs": [
    {
     "data": {
      "text/html": [
       "<div>\n",
       "<table border=\"1\" class=\"dataframe\">\n",
       "  <thead>\n",
       "    <tr style=\"text-align: right;\">\n",
       "      <th></th>\n",
       "      <th>one</th>\n",
       "      <th>two</th>\n",
       "      <th>flag</th>\n",
       "    </tr>\n",
       "  </thead>\n",
       "  <tbody>\n",
       "    <tr>\n",
       "      <th>apple</th>\n",
       "      <td>100.0</td>\n",
       "      <td>111.0</td>\n",
       "      <td>False</td>\n",
       "    </tr>\n",
       "    <tr>\n",
       "      <th>ball</th>\n",
       "      <td>200.0</td>\n",
       "      <td>222.0</td>\n",
       "      <td>False</td>\n",
       "    </tr>\n",
       "    <tr>\n",
       "      <th>cerill</th>\n",
       "      <td>NaN</td>\n",
       "      <td>333.0</td>\n",
       "      <td>False</td>\n",
       "    </tr>\n",
       "    <tr>\n",
       "      <th>clock</th>\n",
       "      <td>300.0</td>\n",
       "      <td>NaN</td>\n",
       "      <td>True</td>\n",
       "    </tr>\n",
       "    <tr>\n",
       "      <th>dancy</th>\n",
       "      <td>NaN</td>\n",
       "      <td>4444.0</td>\n",
       "      <td>False</td>\n",
       "    </tr>\n",
       "  </tbody>\n",
       "</table>\n",
       "</div>"
      ],
      "text/plain": [
       "          one     two   flag\n",
       "apple   100.0   111.0  False\n",
       "ball    200.0   222.0  False\n",
       "cerill    NaN   333.0  False\n",
       "clock   300.0     NaN   True\n",
       "dancy     NaN  4444.0  False"
      ]
     },
     "execution_count": 39,
     "metadata": {},
     "output_type": "execute_result"
    }
   ],
   "source": [
    "df"
   ]
  },
  {
   "cell_type": "code",
   "execution_count": 40,
   "metadata": {},
   "outputs": [],
   "source": [
    "del df['flag']"
   ]
  },
  {
   "cell_type": "code",
   "execution_count": 41,
   "metadata": {},
   "outputs": [
    {
     "data": {
      "text/html": [
       "<div>\n",
       "<table border=\"1\" class=\"dataframe\">\n",
       "  <thead>\n",
       "    <tr style=\"text-align: right;\">\n",
       "      <th></th>\n",
       "      <th>one</th>\n",
       "      <th>two</th>\n",
       "    </tr>\n",
       "  </thead>\n",
       "  <tbody>\n",
       "    <tr>\n",
       "      <th>apple</th>\n",
       "      <td>100.0</td>\n",
       "      <td>111.0</td>\n",
       "    </tr>\n",
       "    <tr>\n",
       "      <th>ball</th>\n",
       "      <td>200.0</td>\n",
       "      <td>222.0</td>\n",
       "    </tr>\n",
       "    <tr>\n",
       "      <th>cerill</th>\n",
       "      <td>NaN</td>\n",
       "      <td>333.0</td>\n",
       "    </tr>\n",
       "    <tr>\n",
       "      <th>clock</th>\n",
       "      <td>300.0</td>\n",
       "      <td>NaN</td>\n",
       "    </tr>\n",
       "    <tr>\n",
       "      <th>dancy</th>\n",
       "      <td>NaN</td>\n",
       "      <td>4444.0</td>\n",
       "    </tr>\n",
       "  </tbody>\n",
       "</table>\n",
       "</div>"
      ],
      "text/plain": [
       "          one     two\n",
       "apple   100.0   111.0\n",
       "ball    200.0   222.0\n",
       "cerill    NaN   333.0\n",
       "clock   300.0     NaN\n",
       "dancy     NaN  4444.0"
      ]
     },
     "execution_count": 41,
     "metadata": {},
     "output_type": "execute_result"
    }
   ],
   "source": [
    "df"
   ]
  },
  {
   "cell_type": "code",
   "execution_count": 42,
   "metadata": {},
   "outputs": [
    {
     "data": {
      "text/html": [
       "<div>\n",
       "<table border=\"1\" class=\"dataframe\">\n",
       "  <thead>\n",
       "    <tr style=\"text-align: right;\">\n",
       "      <th></th>\n",
       "      <th>one</th>\n",
       "      <th>new_col</th>\n",
       "      <th>two</th>\n",
       "    </tr>\n",
       "  </thead>\n",
       "  <tbody>\n",
       "    <tr>\n",
       "      <th>apple</th>\n",
       "      <td>100.0</td>\n",
       "      <td>10.0</td>\n",
       "      <td>111.0</td>\n",
       "    </tr>\n",
       "    <tr>\n",
       "      <th>ball</th>\n",
       "      <td>200.0</td>\n",
       "      <td>20.0</td>\n",
       "      <td>222.0</td>\n",
       "    </tr>\n",
       "    <tr>\n",
       "      <th>cerill</th>\n",
       "      <td>NaN</td>\n",
       "      <td>30.0</td>\n",
       "      <td>333.0</td>\n",
       "    </tr>\n",
       "    <tr>\n",
       "      <th>clock</th>\n",
       "      <td>300.0</td>\n",
       "      <td>NaN</td>\n",
       "      <td>NaN</td>\n",
       "    </tr>\n",
       "    <tr>\n",
       "      <th>dancy</th>\n",
       "      <td>NaN</td>\n",
       "      <td>NaN</td>\n",
       "      <td>4444.0</td>\n",
       "    </tr>\n",
       "  </tbody>\n",
       "</table>\n",
       "</div>"
      ],
      "text/plain": [
       "          one  new_col     two\n",
       "apple   100.0     10.0   111.0\n",
       "ball    200.0     20.0   222.0\n",
       "cerill    NaN     30.0   333.0\n",
       "clock   300.0      NaN     NaN\n",
       "dancy     NaN      NaN  4444.0"
      ]
     },
     "execution_count": 42,
     "metadata": {},
     "output_type": "execute_result"
    }
   ],
   "source": [
    "df.insert(1, 'new_col', pd.Series([10,20,30],index=['apple','ball','cerill']))\n",
    "df"
   ]
  },
  {
   "cell_type": "code",
   "execution_count": 15,
   "metadata": {},
   "outputs": [
    {
     "data": {
      "text/html": [
       "<div>\n",
       "<table border=\"1\" class=\"dataframe\">\n",
       "  <thead>\n",
       "    <tr style=\"text-align: right;\">\n",
       "      <th></th>\n",
       "      <th>one</th>\n",
       "      <th>new_col</th>\n",
       "      <th>two</th>\n",
       "      <th>one_upper_half</th>\n",
       "    </tr>\n",
       "  </thead>\n",
       "  <tbody>\n",
       "    <tr>\n",
       "      <th>apple</th>\n",
       "      <td>100.0</td>\n",
       "      <td>10.0</td>\n",
       "      <td>111.0</td>\n",
       "      <td>100.0</td>\n",
       "    </tr>\n",
       "    <tr>\n",
       "      <th>ball</th>\n",
       "      <td>200.0</td>\n",
       "      <td>20.0</td>\n",
       "      <td>222.0</td>\n",
       "      <td>200.0</td>\n",
       "    </tr>\n",
       "    <tr>\n",
       "      <th>cerill</th>\n",
       "      <td>NaN</td>\n",
       "      <td>30.0</td>\n",
       "      <td>333.0</td>\n",
       "      <td>NaN</td>\n",
       "    </tr>\n",
       "    <tr>\n",
       "      <th>clock</th>\n",
       "      <td>300.0</td>\n",
       "      <td>NaN</td>\n",
       "      <td>NaN</td>\n",
       "      <td>NaN</td>\n",
       "    </tr>\n",
       "    <tr>\n",
       "      <th>dancy</th>\n",
       "      <td>NaN</td>\n",
       "      <td>NaN</td>\n",
       "      <td>4444.0</td>\n",
       "      <td>NaN</td>\n",
       "    </tr>\n",
       "  </tbody>\n",
       "</table>\n",
       "</div>"
      ],
      "text/plain": [
       "          one  new_col     two  one_upper_half\n",
       "apple   100.0     10.0   111.0           100.0\n",
       "ball    200.0     20.0   222.0           200.0\n",
       "cerill    NaN     30.0   333.0             NaN\n",
       "clock   300.0      NaN     NaN             NaN\n",
       "dancy     NaN      NaN  4444.0             NaN"
      ]
     },
     "execution_count": 15,
     "metadata": {},
     "output_type": "execute_result"
    }
   ],
   "source": [
    "df['one_upper_half'] = df['one'][:2]\n",
    "df"
   ]
  },
  {
   "cell_type": "code",
   "execution_count": 45,
   "metadata": {},
   "outputs": [],
   "source": [
    "df.dropna(inplace=True)"
   ]
  },
  {
   "cell_type": "code",
   "execution_count": 46,
   "metadata": {},
   "outputs": [
    {
     "data": {
      "text/html": [
       "<div>\n",
       "<table border=\"1\" class=\"dataframe\">\n",
       "  <thead>\n",
       "    <tr style=\"text-align: right;\">\n",
       "      <th></th>\n",
       "      <th>one</th>\n",
       "      <th>new_col</th>\n",
       "      <th>two</th>\n",
       "    </tr>\n",
       "  </thead>\n",
       "  <tbody>\n",
       "    <tr>\n",
       "      <th>apple</th>\n",
       "      <td>100.0</td>\n",
       "      <td>10.0</td>\n",
       "      <td>111.0</td>\n",
       "    </tr>\n",
       "    <tr>\n",
       "      <th>ball</th>\n",
       "      <td>200.0</td>\n",
       "      <td>20.0</td>\n",
       "      <td>222.0</td>\n",
       "    </tr>\n",
       "  </tbody>\n",
       "</table>\n",
       "</div>"
      ],
      "text/plain": [
       "         one  new_col    two\n",
       "apple  100.0     10.0  111.0\n",
       "ball   200.0     20.0  222.0"
      ]
     },
     "execution_count": 46,
     "metadata": {},
     "output_type": "execute_result"
    }
   ],
   "source": [
    "df"
   ]
  },
  {
   "cell_type": "code",
   "execution_count": 2,
   "metadata": {},
   "outputs": [
    {
     "ename": "NameError",
     "evalue": "name 'pd' is not defined",
     "output_type": "error",
     "traceback": [
      "\u001b[1;31m---------------------------------------------------------------------------\u001b[0m",
      "\u001b[1;31mNameError\u001b[0m                                 Traceback (most recent call last)",
      "\u001b[1;32m<ipython-input-2-366e1b6dd7fa>\u001b[0m in \u001b[0;36m<module>\u001b[1;34m\u001b[0m\n\u001b[1;32m----> 1\u001b[1;33m d = {'one' : pd.Series([100., 200., 300.], index=['apple', 'ball', 'clock']),\n\u001b[0m\u001b[0;32m      2\u001b[0m      'two' : pd.Series([111., 222., 333., 4444.], index=['apple', 'ball', 'cerill', 'dancy'])}\n\u001b[0;32m      3\u001b[0m \u001b[0md\u001b[0m\u001b[1;33m\u001b[0m\u001b[1;33m\u001b[0m\u001b[0m\n",
      "\u001b[1;31mNameError\u001b[0m: name 'pd' is not defined"
     ]
    }
   ],
   "source": [
    "d = {'one' : pd.Series([100., 200., 300.], index=['apple', 'ball', 'clock']),\n",
    "     'two' : pd.Series([111., 222., 333., 4444.], index=['apple', 'ball', 'cerill', 'dancy'])}\n",
    "d"
   ]
  },
  {
   "cell_type": "code",
   "execution_count": 48,
   "metadata": {},
   "outputs": [
    {
     "name": "stdout",
     "output_type": "stream",
     "text": [
      "          one     two\n",
      "apple   100.0   111.0\n",
      "ball    200.0   222.0\n",
      "cerill    NaN   333.0\n",
      "clock   300.0     NaN\n",
      "dancy     NaN  4444.0\n"
     ]
    }
   ],
   "source": [
    "df = pd.DataFrame(d)\n",
    "print(df)"
   ]
  },
  {
   "cell_type": "code",
   "execution_count": 50,
   "metadata": {},
   "outputs": [
    {
     "data": {
      "text/plain": [
       "200.0"
      ]
     },
     "execution_count": 50,
     "metadata": {},
     "output_type": "execute_result"
    }
   ],
   "source": [
    "df['one'].mean()"
   ]
  },
  {
   "cell_type": "code",
   "execution_count": 49,
   "metadata": {},
   "outputs": [
    {
     "data": {
      "text/html": [
       "<div>\n",
       "<table border=\"1\" class=\"dataframe\">\n",
       "  <thead>\n",
       "    <tr style=\"text-align: right;\">\n",
       "      <th></th>\n",
       "      <th>one</th>\n",
       "      <th>two</th>\n",
       "    </tr>\n",
       "  </thead>\n",
       "  <tbody>\n",
       "    <tr>\n",
       "      <th>apple</th>\n",
       "      <td>100.0</td>\n",
       "      <td>111.0</td>\n",
       "    </tr>\n",
       "    <tr>\n",
       "      <th>ball</th>\n",
       "      <td>200.0</td>\n",
       "      <td>222.0</td>\n",
       "    </tr>\n",
       "    <tr>\n",
       "      <th>cerill</th>\n",
       "      <td>500.0</td>\n",
       "      <td>333.0</td>\n",
       "    </tr>\n",
       "    <tr>\n",
       "      <th>clock</th>\n",
       "      <td>300.0</td>\n",
       "      <td>500.0</td>\n",
       "    </tr>\n",
       "    <tr>\n",
       "      <th>dancy</th>\n",
       "      <td>500.0</td>\n",
       "      <td>4444.0</td>\n",
       "    </tr>\n",
       "  </tbody>\n",
       "</table>\n",
       "</div>"
      ],
      "text/plain": [
       "          one     two\n",
       "apple   100.0   111.0\n",
       "ball    200.0   222.0\n",
       "cerill  500.0   333.0\n",
       "clock   300.0   500.0\n",
       "dancy   500.0  4444.0"
      ]
     },
     "execution_count": 49,
     "metadata": {},
     "output_type": "execute_result"
    }
   ],
   "source": [
    "df.fillna(500,inplace=False)"
   ]
  },
  {
   "cell_type": "code",
   "execution_count": 24,
   "metadata": {},
   "outputs": [
    {
     "data": {
      "text/html": [
       "<div>\n",
       "<table border=\"1\" class=\"dataframe\">\n",
       "  <thead>\n",
       "    <tr style=\"text-align: right;\">\n",
       "      <th></th>\n",
       "      <th>one</th>\n",
       "      <th>two</th>\n",
       "    </tr>\n",
       "  </thead>\n",
       "  <tbody>\n",
       "    <tr>\n",
       "      <th>apple</th>\n",
       "      <td>100.0</td>\n",
       "      <td>111.0</td>\n",
       "    </tr>\n",
       "    <tr>\n",
       "      <th>ball</th>\n",
       "      <td>200.0</td>\n",
       "      <td>222.0</td>\n",
       "    </tr>\n",
       "    <tr>\n",
       "      <th>cerill</th>\n",
       "      <td>200.0</td>\n",
       "      <td>333.0</td>\n",
       "    </tr>\n",
       "    <tr>\n",
       "      <th>clock</th>\n",
       "      <td>300.0</td>\n",
       "      <td>200.0</td>\n",
       "    </tr>\n",
       "    <tr>\n",
       "      <th>dancy</th>\n",
       "      <td>200.0</td>\n",
       "      <td>4444.0</td>\n",
       "    </tr>\n",
       "  </tbody>\n",
       "</table>\n",
       "</div>"
      ],
      "text/plain": [
       "          one     two\n",
       "apple   100.0   111.0\n",
       "ball    200.0   222.0\n",
       "cerill  200.0   333.0\n",
       "clock   300.0   200.0\n",
       "dancy   200.0  4444.0"
      ]
     },
     "execution_count": 24,
     "metadata": {},
     "output_type": "execute_result"
    }
   ],
   "source": [
    "df.fillna(df['one'].mean(),inplace=False)"
   ]
  },
  {
   "cell_type": "code",
   "execution_count": 56,
   "metadata": {},
   "outputs": [
    {
     "data": {
      "text/html": [
       "<div>\n",
       "<table border=\"1\" class=\"dataframe\">\n",
       "  <thead>\n",
       "    <tr style=\"text-align: right;\">\n",
       "      <th></th>\n",
       "      <th>one</th>\n",
       "      <th>two</th>\n",
       "    </tr>\n",
       "  </thead>\n",
       "  <tbody>\n",
       "    <tr>\n",
       "      <th>apple</th>\n",
       "      <td>100.0</td>\n",
       "      <td>111.0</td>\n",
       "    </tr>\n",
       "    <tr>\n",
       "      <th>ball</th>\n",
       "      <td>200.0</td>\n",
       "      <td>222.0</td>\n",
       "    </tr>\n",
       "    <tr>\n",
       "      <th>cerill</th>\n",
       "      <td>200.0</td>\n",
       "      <td>333.0</td>\n",
       "    </tr>\n",
       "    <tr>\n",
       "      <th>clock</th>\n",
       "      <td>300.0</td>\n",
       "      <td>1277.5</td>\n",
       "    </tr>\n",
       "    <tr>\n",
       "      <th>dancy</th>\n",
       "      <td>200.0</td>\n",
       "      <td>4444.0</td>\n",
       "    </tr>\n",
       "  </tbody>\n",
       "</table>\n",
       "</div>"
      ],
      "text/plain": [
       "          one     two\n",
       "apple   100.0   111.0\n",
       "ball    200.0   222.0\n",
       "cerill  200.0   333.0\n",
       "clock   300.0  1277.5\n",
       "dancy   200.0  4444.0"
      ]
     },
     "execution_count": 56,
     "metadata": {},
     "output_type": "execute_result"
    }
   ],
   "source": [
    "df.fillna(df.mean(),inplace=True)"
   ]
  },
  {
   "cell_type": "code",
   "execution_count": 57,
   "metadata": {},
   "outputs": [
    {
     "data": {
      "text/html": [
       "<div>\n",
       "<table border=\"1\" class=\"dataframe\">\n",
       "  <thead>\n",
       "    <tr style=\"text-align: right;\">\n",
       "      <th></th>\n",
       "      <th>one</th>\n",
       "      <th>two</th>\n",
       "    </tr>\n",
       "  </thead>\n",
       "  <tbody>\n",
       "    <tr>\n",
       "      <th>apple</th>\n",
       "      <td>100.0</td>\n",
       "      <td>111.0</td>\n",
       "    </tr>\n",
       "    <tr>\n",
       "      <th>ball</th>\n",
       "      <td>200.0</td>\n",
       "      <td>222.0</td>\n",
       "    </tr>\n",
       "    <tr>\n",
       "      <th>cerill</th>\n",
       "      <td>200.0</td>\n",
       "      <td>333.0</td>\n",
       "    </tr>\n",
       "    <tr>\n",
       "      <th>clock</th>\n",
       "      <td>300.0</td>\n",
       "      <td>1277.5</td>\n",
       "    </tr>\n",
       "    <tr>\n",
       "      <th>dancy</th>\n",
       "      <td>200.0</td>\n",
       "      <td>4444.0</td>\n",
       "    </tr>\n",
       "  </tbody>\n",
       "</table>\n",
       "</div>"
      ],
      "text/plain": [
       "          one     two\n",
       "apple   100.0   111.0\n",
       "ball    200.0   222.0\n",
       "cerill  200.0   333.0\n",
       "clock   300.0  1277.5\n",
       "dancy   200.0  4444.0"
      ]
     },
     "execution_count": 57,
     "metadata": {},
     "output_type": "execute_result"
    }
   ],
   "source": [
    "df"
   ]
  },
  {
   "cell_type": "code",
   "execution_count": 3,
   "metadata": {},
   "outputs": [
    {
     "ename": "ModuleNotFoundError",
     "evalue": "No module named 'numpy'",
     "output_type": "error",
     "traceback": [
      "\u001b[1;31m---------------------------------------------------------------------------\u001b[0m",
      "\u001b[1;31mModuleNotFoundError\u001b[0m                       Traceback (most recent call last)",
      "\u001b[1;32m<ipython-input-3-0aa0b027fcb6>\u001b[0m in \u001b[0;36m<module>\u001b[1;34m\u001b[0m\n\u001b[1;32m----> 1\u001b[1;33m \u001b[1;32mimport\u001b[0m \u001b[0mnumpy\u001b[0m \u001b[1;32mas\u001b[0m \u001b[0mnp\u001b[0m\u001b[1;33m\u001b[0m\u001b[1;33m\u001b[0m\u001b[0m\n\u001b[0m",
      "\u001b[1;31mModuleNotFoundError\u001b[0m: No module named 'numpy'"
     ]
    }
   ],
   "source": [
    "import numpy as np"
   ]
  }
 ],
 "metadata": {
  "kernelspec": {
   "display_name": "Python 3",
   "language": "python",
   "name": "python3"
  },
  "language_info": {
   "codemirror_mode": {
    "name": "ipython",
    "version": 3
   },
   "file_extension": ".py",
   "mimetype": "text/x-python",
   "name": "python",
   "nbconvert_exporter": "python",
   "pygments_lexer": "ipython3",
   "version": "3.6.9"
  }
 },
 "nbformat": 4,
 "nbformat_minor": 1
}
